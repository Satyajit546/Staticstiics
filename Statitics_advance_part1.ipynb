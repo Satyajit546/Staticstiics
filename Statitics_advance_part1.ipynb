{
  "nbformat": 4,
  "nbformat_minor": 0,
  "metadata": {
    "colab": {
      "provenance": []
    },
    "kernelspec": {
      "name": "python3",
      "display_name": "Python 3"
    },
    "language_info": {
      "name": "python"
    }
  },
  "cells": [
    {
      "cell_type": "markdown",
      "source": [
        "#1.What is a random variable in probablity theory?"
      ],
      "metadata": {
        "id": "taOCVaaOZe9v"
      }
    },
    {
      "cell_type": "markdown",
      "source": [
        "In probability theory, a random variable is a variable whose value is a numerical outcome of a random phenomenon. It's a function that maps outcomes of a random process to numerical values.\n",
        "\n",
        "**Here's a breakdown with an example:**\n",
        "\n",
        "#Random Phenomenon/Experiment:\n",
        "Consider tossing a coin twice. The possible outcomes are {HH, HT, TH, TT}, where H represents heads and T represents tails. This is the random phenomenon or experiment.\n",
        "Sample Space: The set of all possible outcomes is called the sample space, which in this case is {HH, HT, TH, TT}.\n",
        "Random Variable: Let's define a random variable X as the number of heads in two tosses.\n",
        "Mapping: This random variable X maps each outcome in the sample space to a numerical value:\n",
        "HH → X = 2\n",
        "HT → X = 1\n",
        "TH → X = 1\n",
        "TT → X = 0\n",
        "In essence, a random variable assigns a number to each outcome of a random experiment.\n",
        "\n",
        "#Types of Random Variables#\n",
        "\n",
        "There are two main types of random variables:\n",
        "\n",
        "Discrete Random Variable: A random variable that can take on a finite or countably infinite number of values. For instance, the number of heads in two coin tosses (as in the example above) is a discrete random variable.\n",
        "Continuous Random Variable: A random variable that can take on any value within a given range. An example would be the height of a student, which can theoretically take on any value within a certain range."
      ],
      "metadata": {
        "id": "RIMdg0AFaOhl"
      }
    },
    {
      "cell_type": "markdown",
      "source": [
        "#2.What are the types of random variables?"
      ],
      "metadata": {
        "id": "qw2YCmWjacy2"
      }
    },
    {
      "cell_type": "markdown",
      "source": [
        "#Random Variables\n",
        "\n",
        "In probability theory, a random variable is a variable whose value is a numerical outcome of a random phenomenon. There are two main types:\n",
        "\n",
        "#Discrete Random Variable:\n",
        "**Definition:**\n",
        "A discrete random variable is a variable whose value can only take on a finite number of values or a countably infinite number of values. These values can typically be integers, but the total number of values must be finite or countable.\n",
        "Examples:\n",
        "\n",
        "The number of heads when flipping a coin four times: Notice that we can get a maximum of 4 heads (the values would be 0, 1, 2, 3, and 4) and the number of values the variable can take on is finite (only 5 values).\n",
        "In a sample of 20 bulbs, the number of defective bulbs (the probability of a defective bulb is the same for every bulb).\n",
        "The number of cars that pass a certain point on a highway in an hour.\n",
        "Continuous Random Variable:\n",
        "Definition: A continuous random variable is a variable whose value can take on any value within a given range.\n",
        "\n",
        "**Examples:**\n",
        "\n",
        "The height of a student. Assume the height can take on any value between 1.50 meters and 1.85 meters. The variable can take on any value between these limits.\n",
        "The temperature of a room.\n",
        "The height of a tree."
      ],
      "metadata": {
        "id": "ouEwyMssawPZ"
      }
    },
    {
      "cell_type": "markdown",
      "source": [
        "#3.What is the difference between discreate and continious distributions?"
      ],
      "metadata": {
        "id": "QoGzHc8UbMtn"
      }
    },
    {
      "cell_type": "markdown",
      "source": [
        "#Discrete Distributions\n",
        "\n",
        "**Definition:**\n",
        "A discrete distribution describes the probability of occurrence of each value of a discrete random variable. A discrete random variable is a variable whose value can only take on a finite number of values or a countably infinite number of values.\n",
        "\n",
        "#Characteristics:\n",
        "The probability of each value is between 0 and 1.\n",
        "The sum of all probabilities is 1.\n",
        "The probability mass function (PMF) gives the probability of each possible value.\n",
        "They are visualized using probability histograms or bar charts, where each bar represents a distinct value and its height corresponds to its probability.\n",
        "Examples:\n",
        "Bernoulli distribution: Represents the probability of success or failure of a single trial (e.g., flipping a coin once).\n",
        "Binomial distribution: Represents the probability of getting a certain number of successes in a fixed number of independent trials (e.g., the number of heads in 5 coin flips).\n",
        "Poisson distribution: Represents the probability of a given number of events occurring in a fixed interval of time or space (e.g., the number of cars passing a certain point on a highway in an hour).\n",
        "\n",
        "#Continuous Distributions\n",
        "\n",
        "**Definition:**\n",
        "A continuous distribution describes the probabilities of the possible values of a continuous random variable. A continuous random variable is a variable whose value can take on any value within a given range.\n",
        "\n",
        "**Characteristics:**\n",
        "\n",
        "The probability of any single value is 0. Instead, we talk about the probability of a range of values.\n",
        "The probability density function (PDF) is used to describe the distribution.\n",
        "The area under the PDF curve between two values represents the probability that the variable falls within that range.\n",
        "They are visualized using smooth curves, where the area under the curve represents probability.\n",
        "Examples:\n",
        "Normal distribution (also known as Gaussian distribution): A bell-shaped distribution that is widely used in statistics.\n",
        "Exponential distribution: Often used to model the time between events (e.g., the time between customer arrivals at a store).\n",
        "Uniform distribution: All values within a given range are equally likely.\n",
        "\n",
        "#Key Differences in a Table\n",
        "\n",
        "\n",
        "    Feature\tDiscrete Distribution           Continuous Distribution\n",
        "    \n",
        "    Random  Variable\tDiscrete\t             Continuous\n",
        "    \n",
        "    Values\tFinite or countably infinite\tInfinite and uncountable within a range\n",
        "    Probability of a single valueCan be non-zero\t  Always 0\n",
        "    \n",
        "    Visualization\tProbability histogram or bar chart\tSmooth curve (PDF)\n",
        "    \n",
        "    Function\tProbability Mass Function (PMF)\tProbability Density Function (PDF)"
      ],
      "metadata": {
        "id": "b7cwLlKGbkf7"
      }
    },
    {
      "cell_type": "markdown",
      "source": [
        "#4.What are probability distribution functions(PDF)?"
      ],
      "metadata": {
        "id": "fPp-iBaJeRcS"
      }
    },
    {
      "cell_type": "markdown",
      "source": [
        "#Probability Distribution Functions (PDFs)\n",
        "\n",
        "In probability theory and statistics, a probability distribution function (PDF) is a function that describes the likelihood of a random variable taking on a specific value or falling within a particular range of values. PDFs are used to characterize the distribution of probabilities for a given random variable.\n",
        "\n",
        "#Types of PDFs\n",
        "\n",
        "There are two main types of probability distribution functions, corresponding to the two main types of random variables:\n",
        "\n",
        "Probability Mass Function (PMF): Used for discrete random variables. It gives the probability that a discrete random variable is exactly equal to some value.\n",
        "Probability Density Function (PDF): Used for continuous random variables. It describes the relative likelihood for this random variable to take on a given value.\n",
        "#Key Properties of PDFs\n",
        "\n",
        "Non-negative: The PDF value is always non-negative for all possible values of the random variable.\n",
        "Normalization: The total area under the PDF curve (or the sum of probabilities for a discrete distribution) is equal to 1, representing the certainty that the random variable will take on some value within its defined range.\n",
        "\n",
        "#Uses of PDFs\n",
        "\n",
        "**PDFs are essential tools in probability and statistics for various purposes, including:**\n",
        "\n",
        "Modeling random phenomena: PDFs help to describe and understand the behavior of random events.\n",
        "Making predictions: By knowing the PDF of a random variable, we can estimate the likelihood of different outcomes.\n",
        "Statistical inference: PDFs are used in hypothesis testing and parameter estimation.\n",
        "Decision making: PDFs can inform decisions in situations involving uncertainty.\n",
        "\n",
        "**Example:**\n",
        "\n",
        "Consider the probability of rolling a fair six-sided die. The PMF for this scenario would assign a probability of 1/6 to each of the possible outcomes (1, 2, 3, 4, 5, and 6). The sum of these probabilities is 1, as expected."
      ],
      "metadata": {
        "id": "rynvD8qCey_U"
      }
    },
    {
      "cell_type": "markdown",
      "source": [
        "#5.How do cumulative distribution functions (CDF) differ from probablity distribution functions(PDF)?"
      ],
      "metadata": {
        "id": "c5jp0Gl0ey-M"
      }
    },
    {
      "cell_type": "markdown",
      "source": [
        "#Probability Distribution Function (PDF)\n",
        "\n",
        "**Definition:**\n",
        "The PDF describes the probability of a random variable taking on a specific value. For continuous random variables, it represents the probability density at a given point. For discrete variables, it gives the probability mass associated with a specific value.\n",
        "\n",
        "#Properties:\n",
        "\n",
        "Non-negative values.\n",
        "For continuous variables, the area under the PDF curve over a range represents the probability of the variable falling within that range.\n",
        "For discrete variables, the PMF (Probability Mass Function) gives the probability of each possible value.\n",
        "The integral (continuous) or sum (discrete) of the PDF over all possible values is equal to 1.\n",
        "Focus: The PDF focuses on individual values or specific points in the distribution.\n",
        "\n",
        "Example: Rolling a die (discrete variable): The PMF would assign a probability of 1/6 to each outcome (1, 2, 3, 4, 5, 6).\n",
        "\n",
        "#Cumulative Distribution Function (CDF)\n",
        "\n",
        "Definition: The CDF describes the probability that a random variable takes on a value less than or equal to a given value. It represents the cumulative probability up to a certain point.\n",
        "\n",
        "#Properties:\n",
        "\n",
        "Non-decreasing function.\n",
        "The CDF ranges from 0 to 1.\n",
        "For continuous variables, the CDF is the integral of the PDF from negative infinity to the given value.\n",
        "For discrete variables, the CDF is the sum of probabilities for all values less than or equal to the given value.\n",
        "Focus: The CDF focuses on the cumulative probability up to a certain point.\n",
        "\n",
        "Example: Rolling a die (discrete variable): The CDF would give the probability of rolling a value less than or equal to a given number. For example, the CDF at 3 would be the probability of rolling a 1, 2, or 3.\n",
        "\n",
        "**Key Differences Summarized**\n",
        "\n",
        "    Feature\t     PDF\t                                              CDF\n",
        "\n",
        "    Definition\tProbability of a specific value\t             Probability of a value less than or equal to x\n",
        "\n",
        "    Values\tCan be greater than 1 for discrete cases,\n",
        "            but the sum/integral over all possible values must be 1.\tRanges from 0 to 1\n",
        "    Focus\tIndividual points in the distribution\t           Cumulative probability up to a point\n",
        "\n",
        "    Calculation\tPMF (discrete), PDF (continuous)\t       Integral of PDF (continuous), sum of PMF (discrete)"
      ],
      "metadata": {
        "id": "-6xQ0d55f7am"
      }
    },
    {
      "cell_type": "markdown",
      "source": [
        "#6.What is a discreate uniform distribution?\n",
        "\n"
      ],
      "metadata": {
        "id": "wA81xX_lf7ZN"
      }
    },
    {
      "cell_type": "markdown",
      "source": [
        "#Discrete Uniform Distribution\n",
        "\n",
        "A discrete uniform distribution is a probability distribution where a finite number of values are equally likely to be observed. In other words, each value within a given range has an equal probability of occurrence.\n",
        "\n",
        "#Characteristics\n",
        "\n",
        "Discrete: The variable can only take on specific, separate values (typically integers) within a given range.\n",
        "Uniform: All the values within the range have the same probability of occurring.\n",
        "Finite Support: The range of possible values is finite and defined.\n",
        "Probability Mass Function (PMF): The probability mass function assigns a probability of 1/n to each of the n possible values, where n is the total number of values in the range.\n",
        "Example\n",
        "\n",
        "Imagine rolling a fair six-sided die. The possible outcomes are {1, 2, 3, 4, 5, 6}. Each outcome has an equal probability of 1/6. This is an example of a discrete uniform distribution.\n",
        "\n",
        "#Application\n",
        "\n",
        "Discrete uniform distributions are used in various scenarios, such as:\n",
        "\n",
        "Random number generation: Simulating random outcomes, like in games or lotteries.\n",
        "Sampling: Selecting items randomly from a finite population.\n",
        "Statistical modeling: When each outcome within a range is equally likely."
      ],
      "metadata": {
        "id": "WCx2R-Vuh6pN"
      }
    },
    {
      "cell_type": "markdown",
      "source": [
        "#7.What are the key properties of a Bernoulli  distributions"
      ],
      "metadata": {
        "id": "-2C0ID78h6n_"
      }
    },
    {
      "cell_type": "markdown",
      "source": [
        "#Definition:\n",
        "\n",
        "The Bernoulli distribution is a discrete probability distribution that models the probability of a single trial or experiment having two possible outcomes: success or failure. These outcomes are typically labeled as 1 (success) and 0 (failure).\n",
        "\n",
        "Properties:\n",
        "\n",
        "#Binary Outcomes:\n",
        "The most distinctive feature of a Bernoulli distribution is its binary nature. Each trial can result in only one of two possible outcomes: success (1) or failure (0).\n",
        "\n",
        "#Single Parameter:\n",
        "It is characterized by a single parameter, often denoted as p, which represents the probability of success. The probability of failure is then given by 1 - p.\n",
        "\n",
        "Probability Mass Function (PMF): The PMF of a Bernoulli distribution is given by:\n",
        "\n",
        "P(X = k) = p^k * (1 - p)^(1 - k) where:\n",
        "\n",
        "X is the random variable representing the outcome.\n",
        "k can be either 0 (failure) or 1 (success).\n",
        "p is the probability of success.\n",
        "#Mean and Variance:\n",
        "\n",
        "The mean (expected value) of a Bernoulli distribution is equal to p.\n",
        "The variance is given by p (1 - p).\n",
        "Applications: Bernoulli distributions are used to model various real-world scenarios, such as:\n",
        "\n",
        "Flipping a coin (heads or tails)\n",
        "\n",
        "Determining if a customer will make a purchase (buy or not buy)\n",
        "\n",
        "Answering a true/false question\n",
        "\n",
        "Testing if a machine is functioning correctly (pass or fail)"
      ],
      "metadata": {
        "id": "xRYbWYxHlAFP"
      }
    },
    {
      "cell_type": "markdown",
      "source": [
        "#8.What is the Binomial distribution and how it is used in probability?"
      ],
      "metadata": {
        "id": "zIbbqz2albQ3"
      }
    },
    {
      "cell_type": "markdown",
      "source": [
        "The Binomial distribution is a discrete probability distribution that describes the probability of getting exactly k successes in n independent Bernoulli trials. A Bernoulli trial is a random experiment with exactly two possible outcomes, typically labeled as \"success\" and \"failure.\"\n",
        "\n",
        "**Key Characteristics and Parameters:**\n",
        "\n",
        "Discrete: It deals with a discrete number of successes (k).\n",
        "Independent Trials: Each trial is independent of the others, meaning the outcome of one trial doesn't affect the outcomes of the others.\n",
        "Fixed Number of Trials (n): The number of trials is predetermined and constant.\n",
        "Constant Probability of Success (p): The probability of success remains the same for each trial.\n",
        "Probability Mass Function (PMF): The PMF gives the probability of getting exactly k successes in n trials:\n",
        "\n",
        "  P(X = k) = (n choose k) * p^k * (1 - p)^(n - k)\n",
        "\n",
        "Where: * (n choose k) is the binomial coefficient, representing the number of ways to choose k successes from n trials. * p is the probability of success on a single trial. * (1 - p) is the probability of failure on a single trial.\n",
        "\n",
        "#How is it Used in Probability?\n",
        "\n",
        "The Binomial distribution is widely used to model the probability of success in a variety of scenarios, including:\n",
        "\n",
        "Coin Flips: Calculating the probability of getting a certain number of heads in a series of coin flips.\n",
        "Quality Control: Determining the probability of finding a specific number of defective items in a batch of products.\n",
        "Medical Trials: Estimating the probability of a certain number of patients responding positively to a treatment.\n",
        "Surveys: Analyzing the probability of a certain proportion of respondents answering a question in a particular way.\n",
        "Genetics: Modeling the probability of inheriting a specific trait.\n",
        "Example:\n",
        "\n",
        "Suppose you flip a fair coin 5 times. What is the probability of getting exactly 3 heads?\n",
        "\n",
        "Here, n = 5 (number of trials), k = 3 (number of successes), and p = 0.5 (probability of getting heads on a single flip).\n",
        "\n",
        "**Using the Binomial PMF, the probability is:**\n",
        "\n",
        "    P(X = 3) = (5 choose 3) * (0.5)^3 * (0.5)^(5-3)\n",
        "             = 10 * (0.125) * (0.25)\n",
        "             = 0.3125\n",
        "\n",
        "Therefore, the probability of getting exactly 3 heads in 5 flips is 0.3125 or 31.25%."
      ],
      "metadata": {
        "id": "dPBwkm3umF4W"
      }
    },
    {
      "cell_type": "markdown",
      "source": [
        "#9.What is the possion distribution and where is it applied?"
      ],
      "metadata": {
        "id": "5qR-2BoWoYI9"
      }
    },
    {
      "cell_type": "markdown",
      "source": [
        "#What is the Poisson Distribution?\n",
        "\n",
        "The Poisson distribution is a discrete probability distribution that expresses the probability of a given number of events occurring in a fixed interval of time or space if these events occur with a known constant mean rate and independently of the time since the last event.\n",
        "\n",
        "#In simpler terms:\n",
        "\n",
        "Imagine you're counting how many cars pass a certain point on a highway in an hour. The Poisson distribution helps you calculate the probability of seeing 0 cars, 1 car, 2 cars, and so on, assuming cars pass by at a constant average rate.\n",
        "\n",
        "#Key Characteristics and Parameters:\n",
        "\n",
        "Discrete: It deals with a discrete number of events (e.g., 0, 1, 2, 3...).\n",
        "Independent Events: The occurrence of one event doesn't affect the probability of another event occurring.\n",
        "Constant Rate (λ): The average rate at which events occur within the given interval (e.g., the average number of cars passing per hour). This is the key parameter of the distribution.\n",
        "#Probability Mass Function (PMF):\n",
        "\n",
        "P(X = k) = (e^-λ * λ^k) / k!\n",
        "Use code with caution\n",
        "Where: * X is the random variable representing the number of events. * k is the specific number of events you're interested in (e.g., k = 2 for the probability of 2 cars passing). * λ (lambda) is the average rate of events. * e is the mathematical constant approximately equal to 2.71828. * k! is the factorial of k (e.g., 5! = 5 * 4 * 3 * 2 * 1).\n",
        "\n",
        "#Where is it Applied?\n",
        "\n",
        "The Poisson distribution is used in a wide range of fields to model the probability of various events:\n",
        "\n",
        "Telecommunications: Predicting the number of calls received at a call center per hour.\n",
        "Customer service: Modeling the number of customers arriving at a store or website in a given time period, which is useful for staffing and resource allocation.\n",
        "Traffic Engineering: Estimating the number of cars passing a certain point on a road in a given time frame, used for traffic light timing and road planning.\n",
        "Insurance: Calculating the probability of a certain number of insurance claims being filed in a given period, which is essential for risk assessment and premium calculations.\n",
        "Finance: Predicting the number of defaults on loans or the number of stock trades in a given period.\n",
        "Biology: Modeling the number of mutations in a DNA sequence or the number of cells in a culture dish.\n",
        "Physics: Analyzing the number of radioactive decays in a given time.\n",
        "Astronomy: Predicting the number of meteor showers in a specific area."
      ],
      "metadata": {
        "id": "JB3ACqX9psXL"
      }
    },
    {
      "cell_type": "markdown",
      "source": [
        "#10.What is  continious uniform distribution?"
      ],
      "metadata": {
        "id": "LYNx8AeMqgfB"
      }
    },
    {
      "cell_type": "markdown",
      "source": [
        "Definition\n",
        "\n",
        "The continuous uniform distribution is a probability distribution where all values within a given range are equally likely to occur. It's like a flat, rectangular shape where the probability is constant across the entire range.\n",
        "\n",
        "Characteristics\n",
        "\n",
        "Continuous: The variable can take on any value within a specified range, not just discrete values.\n",
        "Uniform: All values within the range have the same probability density.\n",
        "Defined by two parameters: a (minimum value) and b (maximum value).\n",
        "Probability Density Function (PDF):\n",
        "\n",
        "f(x) = 1 / (b - a)   for a <= x <= b\n",
        "f(x) = 0             otherwise\n",
        "\n",
        "#Explanation\n",
        "\n",
        "Imagine you have a random number generator that produces numbers between 0 and 1 with equal probability for every number in that range. This is an example of a continuous uniform distribution where a = 0 and b = 1. The probability of getting any specific number (like 0.3 or 0.75) is theoretically zero because there are infinitely many possible values. However, the probability of getting a number within a sub-range (like between 0.2 and 0.4) is proportional to the width of that sub-range.\n",
        "\n",
        "#Applications\n",
        "\n",
        "The continuous uniform distribution is used in various situations:\n",
        "\n",
        "Random number generation: Creating random numbers for simulations, games, or statistical sampling.\n",
        "Modeling uncertainty: When we have limited information and assume all values within a range are equally likely.\n",
        "Hypothesis testing: In some statistical tests where the null hypothesis assumes a uniform distribution.\n",
        "\n",
        "\n"
      ],
      "metadata": {
        "id": "b7Lw9VC-rG_I"
      }
    },
    {
      "cell_type": "code",
      "source": [
        "import numpy as np\n",
        "import matplotlib.pyplot as plt\n",
        "\n",
        "# Generate 1000 random numbers from a uniform distribution between 2 and 5\n",
        "random_numbers = np.random.uniform(low=2, high=5, size=1000)\n",
        "\n",
        "# Plot a histogram of the generated numbers to visualize the distribution\n",
        "plt.hist(random_numbers, bins=30)\n",
        "plt.title('Continuous Uniform Distribution')\n",
        "plt.xlabel('Values')\n",
        "plt.ylabel('Frequency')\n",
        "plt.show()"
      ],
      "metadata": {
        "colab": {
          "base_uri": "https://localhost:8080/",
          "height": 472
        },
        "id": "c8ml5Af_rdFS",
        "outputId": "2afdffae-a975-454b-e35f-3bfe899837c2"
      },
      "execution_count": null,
      "outputs": [
        {
          "output_type": "display_data",
          "data": {
            "text/plain": [
              "<Figure size 640x480 with 1 Axes>"
            ],
            "image/png": "[encoded data removed]"
          },
          "metadata": {}
        }
      ]
    },
    {
      "cell_type": "markdown",
      "source": [
        "To see the output, run the code. This code will generate a histogram where you can see that all values between 2 and 5 have roughly the same frequency. This visualizes the flat, rectangular shape of the continuous uniform distribution."
      ],
      "metadata": {
        "id": "GZexHwlqrG9u"
      }
    },
    {
      "cell_type": "markdown",
      "source": [
        "#11.What are the characteristics of a Normal distribution?"
      ],
      "metadata": {
        "id": "31q8Eyndtrzc"
      }
    },
    {
      "cell_type": "markdown",
      "source": [
        "1. Bell-Shaped Curve:\n",
        "\n",
        "The Normal distribution is characterized by its classic bell shape, also known as a Gaussian curve.\n",
        "This means the distribution is symmetric around its mean, with the highest point of the curve at the mean.\n",
        "The curve gradually tapers off towards both tails, extending infinitely in both directions.\n",
        "2. Symmetrical:\n",
        "\n",
        "The Normal distribution is perfectly symmetrical around its mean.\n",
        "This means the left and right halves of the curve are mirror images of each other.\n",
        "The mean, median, and mode of a Normal distribution are all equal and located at the center of the curve.\n",
        "3. Defined by Mean and Standard Deviation:\n",
        "\n",
        "A Normal distribution is fully defined by two parameters: its mean (μ) and standard deviation (σ).\n",
        "The mean determines the location of the center of the curve.\n",
        "The standard deviation determines the spread or width of the curve. A larger standard deviation results in a wider curve, while a smaller standard deviation results in a narrower curve.\n",
        "4. Empirical Rule:\n",
        "\n",
        "The empirical rule, also known as the 68-95-99.7 rule, states that for a Normal distribution:\n",
        "Approximately 68% of the data falls within one standard deviation of the mean.\n",
        "Approximately 95% of the data falls within two standard deviations of the mean.\n",
        "Approximately 99.7% of the data falls within three standard deviations of the mean.\n",
        "5. Central Limit Theorem:\n",
        "\n",
        "The Normal distribution is central to the Central Limit Theorem, which states that the sum or average of a large number of independent and identically distributed random variables will be approximately normally distributed, regardless of the underlying distribution of the individual variables. This theorem has significant implications in statistics and probability theory."
      ],
      "metadata": {
        "id": "rvb5hEjQxHRc"
      }
    },
    {
      "cell_type": "markdown",
      "source": [
        "#12.What is the standard normal distribution,and why is it important?"
      ],
      "metadata": {
        "id": "knv9n6ZvxlIF"
      }
    },
    {
      "cell_type": "markdown",
      "source": [
        "The standard normal distribution is a special case of the normal distribution. It's a normal distribution with a mean (μ) of 0 and a standard deviation (σ) of 1. It's often denoted by the letter Z.\n",
        "\n",
        "Why is it Important?\n",
        "\n",
        "Standardization: The standard normal distribution allows us to standardize any normal distribution. This means we can transform any normally distributed data into a standard normal distribution by using the Z-score formula:\n",
        "\n",
        "Z = (X - μ) / σ\n",
        "\n",
        "Where:\n",
        "\n",
        "X is the original data point.\n",
        "μ is the mean of the original distribution.\n",
        "σ is the standard deviation of the original distribution.\n",
        "This standardization is crucial because it allows us to compare and analyze data from different normal distributions on a common scale.\n",
        "\n",
        "**Probability Calculations:**\n",
        "The standard normal distribution has well-defined properties, and its probabilities are readily available in tables or through statistical software. By converting data to Z-scores, we can use these resources to calculate probabilities associated with specific values or ranges of values. This is essential for hypothesis testing and making statistical inferences.\n",
        "\n",
        "**Central Limit Theorem:**\n",
        "As mentioned before, the standard normal distribution is closely linked to the central limit theorem. This theorem implies that many statistical procedures and tests rely on the properties of the standard normal distribution, even when the underlying data is not perfectly normal.\n",
        "\n",
        "**Simplicity and Universality:**\n",
        "The standard normal distribution simplifies many statistical calculations and provides a universal framework for working with normal distributions. It's a cornerstone of statistical theory and practice.\n",
        "\n",
        "In summary, the standard normal distribution is important because it provides a standardized way to work with normal distributions, facilitates probability calculations, underlies many statistical procedures, and simplifies statistical analysis. It's a fundamental concept in probability and statistics."
      ],
      "metadata": {
        "id": "C9aeWFvUygQt"
      }
    },
    {
      "cell_type": "markdown",
      "source": [
        "#13.What is the Central Limit Theorem(CLT),and why is it important?"
      ],
      "metadata": {
        "id": "b_pEp2eGy9Qq"
      }
    },
    {
      "cell_type": "markdown",
      "source": [
        "The Central Limit Theorem states that the sampling distribution of the sample mean of any independent, random variable will be approximately normal, regardless of the shape of the original population distribution, as long as the sample size is large enough (typically n ≥ 30 is considered sufficient).\n",
        "\n",
        "In simpler terms:\n",
        "\n",
        "Imagine you have a population of data (e.g., heights of all students in a school). If you repeatedly take random samples from this population and calculate the average (mean) of each sample, the distribution of these sample means will tend to follow a normal distribution, even if the original population data is not normally distributed.\n",
        "\n",
        "Why is it Important?\n",
        "\n",
        "Foundation for Statistical Inference: The CLT is crucial for making inferences about a population based on a sample. Since the sampling distribution of the sample mean is approximately normal, we can use the properties of the normal distribution to estimate population parameters (like the population mean) and perform hypothesis testing.\n",
        "\n",
        "Works with Various Distributions: The CLT applies to a wide range of population distributions, making it a powerful tool in statistics. It doesn't require the original data to be normally distributed, which is often not the case in real-world scenarios.\n",
        "\n",
        "Enables Use of Normal Distribution Tools: Since the sampling distribution is approximately normal, we can use the tools and techniques associated with the normal distribution (e.g., z-scores, confidence intervals) to analyze data and make predictions.\n",
        "\n",
        "Large Sample Size is Key: The accuracy of the CLT approximation improves as the sample size increases. With larger samples, the sampling distribution of the sample mean becomes closer to a normal distribution, making statistical inferences more reliable.\n",
        "\n",
        "In essence, the CLT is a fundamental concept in statistics that allows us to use the normal distribution to analyze and make inferences about populations, even when the underlying population distribution is unknown or not normal."
      ],
      "metadata": {
        "id": "h--3-qk3zsOn"
      }
    },
    {
      "cell_type": "markdown",
      "source": [
        "#14.How does the Central Limit Theorem relate to the normal distribution?"
      ],
      "metadata": {
        "id": "EsDlInJdz7dC"
      }
    },
    {
      "cell_type": "markdown",
      "source": [
        "In essence, the CLT establishes a connection between the sampling distribution of the sample mean and the normal distribution, regardless of the original population's distribution.\n",
        "\n",
        "#Here's a breakdown:\n",
        "\n",
        "Sampling Distribution of the Sample Mean:\n",
        "When you take repeated random samples from a population and calculate the mean of each sample, you get a distribution of these sample means. This is called the sampling distribution of the sample mean.\n",
        "#CLT's Statement:\n",
        "The CLT states that as the sample size (n) gets larger, the sampling distribution of the sample mean will approach a normal distribution, regardless of the shape of the original population distribution.\n",
        "Connection to the Normal Distribution:\n",
        "This means that even if the original population data is not normally distributed (e.g., it might be skewed, uniform, or have any other shape), the distribution of the sample means will tend towards a normal distribution as the sample size increases.\n",
        "#Why This Matters:\n",
        "This connection is crucial because it allows us to use the properties of the normal distribution (e.g., z-scores, confidence intervals) to analyze data and make inferences about populations, even when the underlying population distribution is unknown or not normal.\n",
        "In summary, the CLT establishes that the normal distribution acts as a limiting distribution for the sample mean, making it a central concept in statistical inference"
      ],
      "metadata": {
        "id": "J8xiIurb0pRw"
      }
    },
    {
      "cell_type": "markdown",
      "source": [
        "#15.What is the application of z statictics in hypothesis testing?"
      ],
      "metadata": {
        "id": "25Tfw_YU0pQJ"
      }
    },
    {
      "cell_type": "markdown",
      "source": [
        "#Z-statistics in Hypothesis Testing\n",
        "\n",
        "In hypothesis testing, Z-statistics are used to determine whether there is enough evidence to reject the null hypothesis. The null hypothesis is a statement about the population that we are trying to disprove.\n",
        "\n",
        "#Here are the steps involved in using Z-statistics for hypothesis testing:\n",
        "\n",
        "State the null and alternative hypotheses. The null hypothesis is the statement that we are trying to disprove, and the alternative hypothesis is the statement that we are trying to prove.\n",
        "\n",
        "Collect data. We need to collect data from a sample of the population in order to test the hypotheses.\n",
        "\n",
        "**Calculate the Z-statistic. **\n",
        "The Z-statistic is a measure of how many standard deviations the sample mean is from the population mean. It is calculated as follows:\n",
        "\n",
        "\n",
        "Z = (sample mean - population mean) / (standard deviation / square root of sample size)\n",
        "\n",
        "Determine the p-value. The p-value is the probability of obtaining the observed results if the null hypothesis is true. It is calculated using the Z-statistic and the standard normal distribution table.\n",
        "\n",
        "Make a decision. If the p-value is less than the significance level (alpha), then we reject the null hypothesis. Otherwise, we fail to reject the null hypothesis.\n",
        "\n",
        "Example\n",
        "\n",
        "Suppose we want to test the hypothesis that the average height of women is 5'4\". We collect data from a sample of 100 women and find that the average height is 5'5\". The standard deviation of the population is 2.5 inches.\n",
        "\n",
        "The null hypothesis is that the average height of women is 5'4\". The alternative hypothesis is that the average height of women is not 5'4\".\n",
        "\n",
        "#The Z-statistic is calculated as follows:\n",
        "\n",
        "\n",
        "Z = (5'5\" - 5'4\") / (2.5 inches / square root of 100) = 4\n",
        "\n",
        "The p-value is calculated using the Z-statistic and the standard normal distribution table. The p-value is less than 0.05, so we reject the null hypothesis.\n",
        "\n",
        "This means that there is enough evidence to conclude that the average height of women is not 5'4\".\n",
        "\n",
        "In summary, Z-statistics are used in hypothesis testing to determine whether there is enough evidence to reject the null hypothesis. They are calculated using the sample mean, population mean, standard deviation, and sample size. The p-value is then calculated using the Z-statistic and the standard normal distribution table. If the p-value is less than the significance level, then we reject the null hypothesis."
      ],
      "metadata": {
        "id": "3gmDT3Km2IFx"
      }
    },
    {
      "cell_type": "markdown",
      "source": [
        "#16.How do you calculate a z-score,and what does it represent?"
      ],
      "metadata": {
        "id": "4T-RX41W2m5C"
      }
    },
    {
      "cell_type": "markdown",
      "source": [
        "#Calculating a Z-score\n",
        "\n",
        "**The formula for calculating a z-score is:**\n",
        "\n",
        "\n",
        "z = (x - μ) / σ\n",
        "\n",
        "Where:\n",
        "\n",
        "x is the individual data point you want to find the z-score for.\n",
        "μ (mu) is the mean (average) of the population.\n",
        "σ (sigma) is the standard deviation of the population.\n",
        "What a Z-score Represents\n",
        "\n",
        "#Standardized Score:\n",
        "A z-score represents the number of standard deviations a data point is away from the mean of the distribution.\n",
        "Relative Standing: It tells you where a data point sits relative to the rest of the data in the distribution.\n",
        "Comparison: It allows you to compare data points from different distributions by standardizing them to a common scale.\n",
        "Example:\n",
        "\n",
        "Let's say the average height of adult women is 65 inches (μ = 65) with a standard deviation of 3 inches (σ = 3). If a woman is 68 inches tall (x = 68), her z-score would be:\n",
        "\n",
        "\n",
        "z = (68 - 65) / 3 = 1\n",
        "Use code with caution\n",
        "This means her height is 1 standard deviation above the average height of women.\n",
        "\n",
        "In summary, a z-score is a standardized measure that tells you how far a data point is from the mean, expressed in terms of standard deviations. It's a useful tool for understanding the relative position of a data point within a distribution and for comparing data from different distributions."
      ],
      "metadata": {
        "id": "nm081DsY4Fd-"
      }
    },
    {
      "cell_type": "markdown",
      "source": [
        "#17.What are point estimates and interval estimates in statictics?"
      ],
      "metadata": {
        "id": "WXP49uvHiB8w"
      }
    },
    {
      "cell_type": "markdown",
      "source": [
        "#Point Estimates\n",
        "\n",
        "#Definition:\n",
        "A point estimate is a single value that is used to estimate an unknown population parameter. It's like taking a \"best guess\" at the true value based on the sample data.\n",
        "Examples:\n",
        "Using the sample mean (x̄) to estimate the population mean (μ).\n",
        "Using the sample proportion (p̂) to estimate the population proportion (p).\n",
        "Using the sample standard deviation (s) to estimate the population standard deviation (σ).\n",
        "\n",
        "Advantages: Simple to calculate and understand.\n",
        "\n",
        "Disadvantages: Doesn't provide information about the uncertainty or variability associated with the estimate. It's just a single point, and it's unlikely to be exactly correct.\n",
        "\n",
        "#Interval Estimates\n",
        "\n",
        "#Definition:\n",
        "An interval estimate is a range of values within which we are confident that the true population parameter lies. It provides a measure of uncertainty around the point estimate. Confidence intervals are the most common type of interval estimate.\n",
        "Components:\n",
        "Point estimate: The center of the interval.\n",
        "Margin of error: A measure of the uncertainty around the point estimate. It's calculated based on the desired level of confidence and the variability in the data.\n",
        "Interpretation: A 95% confidence interval means that if we were to repeatedly take samples and calculate confidence intervals, 95% of those intervals would contain the true population parameter.\n",
        "\n",
        "Advantages: Provides a range of plausible values for the population parameter, along with a measure of confidence.\n",
        "\n",
        "Disadvantages: More complex to calculate and interpret than point estimates.\n",
        "\n",
        "**Key Differences Summarized**\n",
        "\n",
        "    Feature\t      Point Estimate\t                  Interval Estimate\n",
        "\n",
        "    Type\t      Single value\t                     Range of values\n",
        "\n",
        "    Uncertainty\t   No indication\t                 Quantified by margin of error\n",
        "    Interpretation\tBest guess\t           Range of plausible values with a level of confidence\n",
        "\n",
        "    Example\tSample mean = 50\t           95% confidence interval for population mean: (45, 55)"
      ],
      "metadata": {
        "id": "XyUqNwQziB7K"
      }
    },
    {
      "cell_type": "markdown",
      "source": [
        "#18.What is the  signifiacance of confidence intervals in statistical analysis?"
      ],
      "metadata": {
        "id": "oojQEBJXkHqg"
      }
    },
    {
      "cell_type": "markdown",
      "source": [
        "Confidence intervals (CIs) are an essential part of statistical analysis because they provide a range of plausible values for an unknown population parameter, along with a measure of confidence or certainty. Here's a breakdown of their significance:\n",
        "\n",
        "#Estimating Population Parameters:\n",
        "In many cases, we want to estimate an unknown population parameter, such as the population mean or proportion, based on a sample of data.\n",
        "A confidence interval gives us a range of values within which we are confident the true population parameter lies.\n",
        "For example, a 95% confidence interval for the average height of women might be (63 inches, 67 inches). This means we are 95% confident that the true average height of all women falls within this range.\n",
        "Quantifying Uncertainty:\n",
        "Point estimates (single values) don't provide information about the uncertainty or variability associated with the estimate.\n",
        "Confidence intervals quantify this uncertainty by giving a range of values and a level of confidence.\n",
        "The wider the confidence interval, the more uncertainty there is in the estimate.\n",
        "The narrower the confidence interval, the more precise the estimate.\n",
        "#Hypothesis Testing:\n",
        "Confidence intervals can be used to perform hypothesis tests.\n",
        "If a confidence interval does not include the null hypothesis value, then we can reject the null hypothesis at the corresponding level of significance.\n",
        "For example, if a 95% confidence interval for the difference between two groups' means does not include 0, we can reject the null hypothesis that there is no difference between the groups at the 5% significance level.\n",
        "#Decision Making:\n",
        "Confidence intervals provide valuable information for decision-making in various fields.\n",
        "For instance, in business, a confidence interval for the potential sales of a new product can help managers decide whether to launch the product.\n",
        "In healthcare, a confidence interval for the effectiveness of a new treatment can help doctors determine whether to recommend it to patients.\n",
        "#Communicating Results:\n",
        "Confidence intervals are a clear and concise way to communicate the results of statistical analyses.\n",
        "They provide a measure of confidence and uncertainty, allowing readers to understand the precision and reliability of the estimates.\n",
        "This is important for transparency and for making informed decisions based on the results.\n",
        "In essence, confidence intervals are a valuable tool in statistical analysis because they provide:\n",
        "\n",
        "A range of plausible values for an unknown population parameter.\n",
        "A measure of confidence or certainty.\n",
        "Information about the uncertainty or variability in the estimate.\n",
        "A way to perform hypothesis tests.\n",
        "Valuable information for decision-making.\n",
        "A clear and concise way to communicate results."
      ],
      "metadata": {
        "id": "Q60KirteksfF"
      }
    },
    {
      "cell_type": "markdown",
      "source": [
        "#19.What is the relationship between a z score and a confidence interval?"
      ],
      "metadata": {
        "id": "rktkkv0kk3at"
      }
    },
    {
      "cell_type": "markdown",
      "source": [
        "In essence, z-scores are used to calculate the margin of error in a confidence interval.\n",
        "\n",
        "Here's a breakdown:\n",
        "\n",
        "#Confidence Interval:\n",
        " A confidence interval is a range of values within which we are confident that the true population parameter (like the population mean) lies. It's expressed as a range, such as (45, 55), and is associated with a confidence level, such as 95%.\n",
        "\n",
        "#Z-score:\n",
        "A z-score represents the number of standard deviations a data point is away from the mean of the distribution. It's calculated as:\n",
        "\n",
        "\n",
        "           z = (x - μ) / σ\n",
        "\n",
        "\n",
        "    where: * x is the data point * μ is the population mean * σ is the population standard deviation\n",
        "\n",
        "#Margin of Error:\n",
        "The margin of error in a confidence interval is the amount added and subtracted to the point estimate (like the sample mean) to create the interval. It's calculated using the z-score and the standard error:\n",
        "\n",
        "     Margin of error = z * (σ / √n)\n",
        "\n",
        "where: * z is the z-score corresponding to the desired confidence level * σ is the population standard deviation * n is the sample size\n",
        "\n",
        "Putting it Together: To construct a confidence interval, you:\n",
        "Calculate the point estimate (e.g., sample mean).\n",
        "Determine the z-score for your desired confidence level (e.g., 1.96 for a 95% confidence interval).\n",
        "Calculate the margin of error using the z-score, standard deviation, and sample size.\n",
        "Add and subtract the margin of error to the point estimate to create the confidence interval.\n",
        "#In summary:\n",
        "\n",
        "The z-score is a critical component in calculating the margin of error for a confidence interval.\n",
        "The z-score reflects the desired confidence level (e.g., a higher confidence level requires a larger z-score, resulting in a wider interval).\n",
        "The margin of error, calculated using the z-score, determines the width of the confidence interval."
      ],
      "metadata": {
        "id": "wJtr-E7xlWPM"
      }
    },
    {
      "cell_type": "markdown",
      "source": [
        "#20.How are z scores used to compare different distributions?"
      ],
      "metadata": {
        "id": "mZMVPZZ7lwdF"
      }
    },
    {
      "cell_type": "markdown",
      "source": [
        "#Understanding Z-scores\n",
        "\n",
        "**Standardization:**\n",
        "Z-scores transform data from different distributions into a standard normal distribution with a mean of 0 and a standard deviation of 1.\n",
        "Relative Standing: A z-score indicates how many standard deviations a data point is away from the mean of its distribution.\n",
        "Comparing Distributions\n",
        "\n",
        "**Standardize Data:**\n",
        "Calculate z-scores for data points in each distribution using the formula:\n",
        "\n",
        "      z = (x - μ) / σ\n",
        "\n",
        "where: * x is the individual data point * μ is the mean of the distribution * σ is the standard deviation of the distribution\n",
        "\n",
        "#Compare Z-scores:\n",
        "Once you have z-scores for data points from different distributions, you can directly compare them.\n",
        "Reasoning\n",
        "\n",
        "#Common Scale:\n",
        "Z-scores provide a common scale for comparison, even if the original distributions have different units or scales.\n",
        "#Relative Position:\n",
        " By comparing z-scores, you can determine the relative position of data points within their respective distributions. For example, a z-score of 2 in one distribution indicates that the data point is further from the mean than a data point with a z-score of 1 in another distribution.\n",
        "#Identifying Outliers:\n",
        "Z-scores can help identify outliers in different distributions. Data points with z-scores significantly larger or smaller than others may be considered outliers.\n",
        "Example\n",
        "\n",
        "Suppose you want to compare the scores of students on two different exams:\n",
        "\n",
        "Exam A: Mean = 70, Standard Deviation = 10\n",
        "Exam B: Mean = 80, Standard Deviation = 5\n",
        "A student scored 80 on Exam A and 85 on Exam B. To compare these scores, you'd calculate z-scores:\n",
        "\n",
        "Exam A: z = (80 - 70) / 10 = 1\n",
        "Exam B: z = (85 - 80) / 5 = 1\n",
        "In this case, the student performed equally well on both exams relative to the other students, even though the raw scores are different."
      ],
      "metadata": {
        "id": "NnIcrY5omQ2g"
      }
    },
    {
      "cell_type": "markdown",
      "source": [
        "#21.What are the assumptions for applying the Central Limit Theroem?"
      ],
      "metadata": {
        "id": "8ujLFbZcmt3O"
      }
    },
    {
      "cell_type": "markdown",
      "source": [
        "#1. Random Sampling:\n",
        "The data must be collected using a random sampling method. This ensures that the sample is representative of the population and that the observations are independent of each other.\n",
        "\n",
        "#2. Independence:\n",
        "The individual observations in the sample must be independent of each other. This means that the value of one observation does not influence the value of any other observation.\n",
        "\n",
        "#3. Sample Size:\n",
        "While the CLT technically holds for any population distribution with a finite variance, the approximation to the normal distribution is generally better with larger sample sizes. A commonly used rule of thumb is that the sample size should be at least 30 (n ≥ 30).\n",
        "\n",
        "#4. Finite Variance:\n",
        "The population from which the samples are drawn must have a finite variance. This is a technical requirement, but most real-world populations satisfy this condition.\n",
        "\n",
        "**Reasoning:**\n",
        "\n",
        "These assumptions are important because they ensure that the sampling distribution of the sample mean will be approximately normal, which is the key result of the CLT. If these assumptions are not met, the CLT may not apply, and the sampling distribution may not be normal.\n",
        "\n",
        "**In simpler terms:**\n",
        "\n",
        "The data should be collected randomly.\n",
        "Each data point should be independent of the others.\n",
        "You need a decent number of data points (usually 30 or more).\n",
        "The original population shouldn't have extreme variability."
      ],
      "metadata": {
        "id": "U5Y18G1anJCT"
      }
    },
    {
      "cell_type": "markdown",
      "source": [
        "#22.What is  the concept of expected value in a pobability distribution?"
      ],
      "metadata": {
        "id": "jAiHE0ornXQv"
      }
    },
    {
      "cell_type": "markdown",
      "source": [
        "#Expected Value\n",
        "\n",
        "In probability theory, the expected value (also known as the expectation, mean, or the first moment) of a random variable is the long-run average value of repetitions of the same experiment it represents. For example, if you roll a six-sided die many times, the expected value is 3.5, because the average of all the outcomes will be approximately 3.5. In simpler terms, the expected value is the average value you would expect to get if you performed the experiment many times.\n",
        "\n",
        "Calculating Expected Value The expected value of a discrete random variable is calculated as follows:\n",
        "\n",
        "\n",
        "  # E(X) = Σ [x * P(x)]\n",
        "\n",
        "Where:\n",
        "\n",
        "E(X) is the expected value of the random variable X.\n",
        "x is a possible outcome.\n",
        "P(x) is the probability of that outcome.\n",
        "For a continuous random variable, the expected value is calculated using an integral:\n",
        "\n",
        "\n",
        "#E(X) = ∫ [x * f(x) dx]\n",
        "\n",
        "Where:\n",
        "\n",
        "E(X) is the expected value of the random variable X\n",
        "x is a possible outcome\n",
        "f(x) is the probability density function of the distribution\n",
        "Here's a simple example with a discrete random variable: Suppose you're playing a game where you flip a coin. If it lands on heads, you win $1; if it lands on tails, you lose $$1; if it lands on tails, you lose $1. The expected value of this game is:\n",
        "\n",
        "\n",
        "#E(X) = (1 * 0.5) + (-1 * 0.5) = 0\n",
        "\n",
        "This means that, on average, you would expect to neither win nor lose money in the long run.\n",
        "\n",
        "Importance of Expected Value The expected value is a fundamental concept in probability theory and statistics and has many applications, including:\n",
        "\n",
        "#Decision-making:\n",
        "The expected value can help you make decisions under uncertainty by weighing the potential outcomes by their probabilities.\n",
        "Risk assessment: The expected value can be used to assess the risk associated with different investments or strategies.\n",
        "Insurance: Expected value is used to calculate insurance premiums."
      ],
      "metadata": {
        "id": "fvYe5fwxnw66"
      }
    },
    {
      "cell_type": "markdown",
      "source": [
        "#23. How does a probability distribution relate to the expected outcome of a random variable?"
      ],
      "metadata": {
        "id": "1ScxQIyypqKB"
      }
    },
    {
      "cell_type": "markdown",
      "source": [
        "#Probability Distribution\n",
        "\n",
        "#Definition:\n",
        "A probability distribution describes the likelihood of different outcomes for a random variable. It assigns probabilities to each possible value the random variable can take.\n",
        "Types: There are two main types:\n",
        "Discrete Probability Distribution: For random variables that can only take on a finite or countable number of values (e.g., the number of heads in coin flips).\n",
        "Continuous Probability Distribution: For random variables that can take on any value within a range (e.g., height, weight).\n",
        "Representation: Probability distributions can be represented using:\n",
        "Probability Mass Function (PMF) for discrete variables.\n",
        "Probability Density Function (PDF) for continuous variables.\n",
        "Expected Outcome (Expected Value)\n",
        "\n",
        "#Definition:\n",
        "The expected outcome, also known as the expected value, is the average value that a random variable is expected to take over a large number of trials.\n",
        "Calculation: It's calculated by taking the weighted average of all possible values, where the weights are the probabilities of those values.\n",
        "\n",
        "Formula:\n",
        "For a discrete random variable:\n",
        "\n",
        "#E(X) = Σ [x * P(X = x)]\n",
        "\n",
        "Where:\n",
        "* E(X) is the expected value of the random variable X.\n",
        "* x represents each possible value of X.\n",
        "* P(X = x) is the probability of X taking the value x.\n",
        "Relationship\n",
        "\n",
        "The probability distribution provides the necessary information (probabilities of different outcomes) to calculate the expected outcome of a random variable.\n",
        "\n",
        "In essence:\n",
        "\n",
        "The probability distribution describes the likelihood of each possible value.\n",
        "The expected outcome is a summary measure that represents the average value you would expect to see over many trials based on the probability distribution.\n",
        "Example\n",
        "\n",
        "Consider rolling a fair six-sided die.\n",
        "\n",
        "Probability Distribution: Each outcome (1, 2, 3, 4, 5, 6) has a probability of 1/6.\n",
        "Expected Outcome:\n",
        "E(X) = (1 * 1/6) + (2 * 1/6) + (3 * 1/6) + (4 * 1/6) + (5 * 1/6) + (6 * 1/6) = 3.5\n",
        "This means that if you roll the die many times, the average value of the outcomes would be around 3.5."
      ],
      "metadata": {
        "id": "1rfT3r_vqe8s"
      }
    },
    {
      "cell_type": "markdown",
      "source": [
        "#Practical"
      ],
      "metadata": {
        "id": "6ggSV79cqxig"
      }
    },
    {
      "cell_type": "markdown",
      "source": [
        "#1. Write a python program to generate a random variable and display its value?"
      ],
      "metadata": {
        "id": "jdFkW5gDq94A"
      }
    },
    {
      "cell_type": "code",
      "source": [
        "import random\n",
        "\n",
        "# Generate a random floating-point number between 0 and 1\n",
        "random_variable = random.random()\n",
        "\n",
        "# Display the value of the random variable\n",
        "print(\"The random variable is:\", random_variable)"
      ],
      "metadata": {
        "colab": {
          "base_uri": "https://localhost:8080/"
        },
        "id": "yJg3bT9vrzFX",
        "outputId": "c83bb3e1-e752-4765-a38d-8ea69c94e359"
      },
      "execution_count": null,
      "outputs": [
        {
          "output_type": "stream",
          "name": "stdout",
          "text": [
            "The random variable is: 0.5871996844389764\n"
          ]
        }
      ]
    },
    {
      "cell_type": "markdown",
      "source": [
        "#2.Generate a discrete uniform distribution using python and plot probability mass function(PMF)?"
      ],
      "metadata": {
        "id": "3aHRoC5vsH3e"
      }
    },
    {
      "cell_type": "code",
      "source": [
        "import numpy as np\n",
        "import matplotlib.pyplot as plt"
      ],
      "metadata": {
        "id": "V1SarPnss_Vy"
      },
      "execution_count": null,
      "outputs": []
    },
    {
      "cell_type": "code",
      "source": [
        "#Define the distribution parameters:\n",
        "low = 1  # Lower bound of the distribution\n",
        "high = 7  # Upper bound of the distribution\n",
        "\n",
        "# Generate random samples:\n",
        "\n",
        "size = 10000 # Number of random samples to generate\n",
        "samples = np.random.randint(low, high +1, size)\n",
        "\n",
        "#Calculate the PMF:\n",
        "\n",
        "unique_values, counts = np.unique(samples, return_counts=True)\n",
        "pmf = counts / size"
      ],
      "metadata": {
        "id": "7yTr1Gwjs_Ua"
      },
      "execution_count": null,
      "outputs": []
    },
    {
      "cell_type": "code",
      "source": [
        "#Plot the PMF:\n",
        "plt.bar(unique_values, pmf)\n",
        "plt.title('Discrete Uniform Distribution PMF')\n",
        "plt.xlabel('Values')\n",
        "plt.ylabel('Probability')\n",
        "plt.show()"
      ],
      "metadata": {
        "colab": {
          "base_uri": "https://localhost:8080/",
          "height": 472
        },
        "id": "pzCzoZqOtXo2",
        "outputId": "f71188bf-c91f-46aa-dc86-981574ffb238"
      },
      "execution_count": null,
      "outputs": [
        {
          "output_type": "display_data",
          "data": {
            "text/plain": [
              "<Figure size 640x480 with 1 Axes>"
            ],
            "image/png": "[encoded data removed]"
          },
          "metadata": {}
        }
      ]
    },
    {
      "cell_type": "markdown",
      "source": [
        "#3.Write a python function to calculate the probability distribution function (PDF) of a Bernoulli distribution."
      ],
      "metadata": {
        "id": "O0ftL2Zltl4Q"
      }
    },
    {
      "cell_type": "code",
      "source": [
        "import numpy as np\n",
        "\n",
        "def bernoulli_pdf(x, p):\n",
        "  \"\"\"\n",
        "  Calculates the probability distribution function (PDF) of a Bernoulli distribution.\n",
        "\n",
        "  Args:\n",
        "    x: The value of the random variable (0 or 1).\n",
        "    p: The probability of success (value 1).\n",
        "\n",
        "  Returns:\n",
        "    The probability of the random variable taking on the value x.\n",
        "  \"\"\"\n",
        "\n",
        "  if x == 0:\n",
        "    return 1 - p\n",
        "  elif x == 1:\n",
        "    return p\n",
        "  else:\n",
        "    return 0  # Invalid input for Bernoulli distribution\n",
        "\n",
        "# Example usage\n",
        "p = 0.6  # Probability of success\n",
        "x = 1\n",
        "\n",
        "probability = bernoulli_pdf(x, p)\n",
        "print(f\"P(X = {x}) = {probability}\")\n",
        "#To see the output, run the code."
      ],
      "metadata": {
        "colab": {
          "base_uri": "https://localhost:8080/"
        },
        "id": "jZQz84VmwJ5K",
        "outputId": "81678d73-ff72-44a2-e079-45b6f5a63ce9"
      },
      "execution_count": null,
      "outputs": [
        {
          "output_type": "stream",
          "name": "stdout",
          "text": [
            "P(X = 1) = 0.6\n"
          ]
        }
      ]
    },
    {
      "cell_type": "markdown",
      "source": [
        "#4.Write a python script to simulate a binomial distribution with n=10 and p=0.5,then plot its histogram."
      ],
      "metadata": {
        "id": "CQWf0ZxowaIx"
      }
    },
    {
      "cell_type": "code",
      "source": [
        "import numpy as np\n",
        "import matplotlib.pyplot as plt\n",
        "\n",
        "# Set the parameters\n",
        "n = 10  # Number of trials\n",
        "p = 0.5  # Probability of success\n",
        "\n",
        "# Generate random samples from the binomial distribution\n",
        "samples = np.random.binomial(n, p, size=1000)\n",
        "\n",
        "# Plot the histogram\n",
        "plt.hist(samples, bins=range(n + 2), align='left', rwidth=0.8)\n",
        "plt.title('Binomial Distribution (n=10, p=0.5)')\n",
        "plt.xlabel('Number of Successes')\n",
        "plt.ylabel('Frequency')\n",
        "plt.show()"
      ],
      "metadata": {
        "colab": {
          "base_uri": "https://localhost:8080/",
          "height": 472
        },
        "id": "kB-AlbOpyLUA",
        "outputId": "77243e79-c02a-42a0-d73a-b358c94dd975"
      },
      "execution_count": null,
      "outputs": [
        {
          "output_type": "display_data",
          "data": {
            "text/plain": [
              "<Figure size 640x480 with 1 Axes>"
            ],
            "image/png": "[encoded data removed]"
          },
          "metadata": {}
        }
      ]
    },
    {
      "cell_type": "markdown",
      "source": [
        "#5.Create a poisson distribution and visualize it using python."
      ],
      "metadata": {
        "id": "bF6VdgR020ei"
      }
    },
    {
      "cell_type": "code",
      "source": [
        "import numpy as np\n",
        "import matplotlib.pyplot as plt\n",
        "import scipy.stats as stats"
      ],
      "metadata": {
        "id": "OJV7_2O13VsE"
      },
      "execution_count": null,
      "outputs": []
    },
    {
      "cell_type": "code",
      "source": [
        "# Define the rate parameter (lambda) for the Poisson distribution\n",
        "rate = 5  # You can change this value to explore different Poisson distributions"
      ],
      "metadata": {
        "id": "2gRCVx4q3Ycj"
      },
      "execution_count": null,
      "outputs": []
    },
    {
      "cell_type": "code",
      "source": [
        "# Generate 1000 random numbers from the Poisson distribution\n",
        "random_numbers = np.random.poisson(rate, size=1000)"
      ],
      "metadata": {
        "id": "vjHozSLc3Vqi"
      },
      "execution_count": null,
      "outputs": []
    },
    {
      "cell_type": "code",
      "source": [
        "# Plot a histogram to visualize the distribution\n",
        "plt.hist(random_numbers, bins=30, density=True, edgecolor='black')\n",
        "plt.title('Poisson Distribution (rate = {})'.format(rate))\n",
        "plt.xlabel('Number of Events')\n",
        "plt.ylabel('Probability')\n",
        "\n",
        "# Add the theoretical Poisson distribution line\n",
        "x = np.arange(0, 20)  # Range of x-values for the theoretical line\n",
        "plt.plot(x, stats.poisson.pmf(x, rate), 'r-', label='Theoretical Distribution')\n",
        "plt.legend()\n",
        "plt.show()"
      ],
      "metadata": {
        "colab": {
          "base_uri": "https://localhost:8080/",
          "height": 472
        },
        "id": "x7KkrqQg3fb6",
        "outputId": "985d07ae-0ab9-4c92-bd1f-e6ec7d24cb61"
      },
      "execution_count": null,
      "outputs": [
        {
          "output_type": "display_data",
          "data": {
            "text/plain": [
              "<Figure size 640x480 with 1 Axes>"
            ],
            "image/png": "[encoded data removed]"
          },
          "metadata": {}
        }
      ]
    },
    {
      "cell_type": "markdown",
      "source": [
        "#6.Write a python program to calculate and plot the cumulative distribuution fnction of a discreate uniform distribution."
      ],
      "metadata": {
        "id": "eYu2ncwM31P5"
      }
    },
    {
      "cell_type": "code",
      "source": [
        "import numpy as np\n",
        "import matplotlib.pyplot as plt\n",
        "\n",
        "def discrete_uniform_cdf(low, high, x):\n",
        "  \"\"\"\n",
        "  Calculates the cumulative distribution function (CDF) of a discrete uniform distribution.\n",
        "\n",
        "  Args:\n",
        "    low: The minimum value of the distribution.\n",
        "    high: The maximum value of the distribution.\n",
        "    x: The value at which to evaluate the CDF.\n",
        "\n",
        "  Returns:\n",
        "    The CDF value at x.\n",
        "  \"\"\"\n",
        "  if x < low:\n",
        "    return 0\n",
        "  elif x > high:\n",
        "    return 1\n",
        "  else:\n",
        "    return (np.floor(x) - low + 1) / (high - low + 1)\n",
        "\n",
        "# Set the parameters of the distribution\n",
        "low = 1\n",
        "high = 6\n",
        "\n",
        "# Generate x-values for the plot\n",
        "x_values = np.arange(low - 1, high + 2, 0.1)  # Include some values outside the range\n",
        "\n",
        "# Calculate CDF values for each x-value\n",
        "cdf_values = [discrete_uniform_cdf(low, high, x) for x in x_values]\n",
        "\n",
        "# Plot the CDF\n",
        "plt.plot(x_values, cdf_values, marker='o', linestyle='-')\n",
        "plt.title('Cumulative Distribution Function (CDF) of Discrete Uniform Distribution')\n",
        "plt.xlabel('x')\n",
        "plt.ylabel('CDF(x)')\n",
        "plt.grid(True)\n",
        "plt.show()"
      ],
      "metadata": {
        "colab": {
          "base_uri": "https://localhost:8080/",
          "height": 472
        },
        "id": "DIQbNaqo4W-I",
        "outputId": "5e73f0bc-91ee-4355-fc68-1d52d82043c6"
      },
      "execution_count": null,
      "outputs": [
        {
          "output_type": "display_data",
          "data": {
            "text/plain": [
              "<Figure size 640x480 with 1 Axes>"
            ],
            "image/png": "[encoded data removed]"
          },
          "metadata": {}
        }
      ]
    },
    {
      "cell_type": "markdown",
      "source": [
        "#7.Genarate a continious uniform distribution  using numpy and visualize it."
      ],
      "metadata": {
        "id": "2UUI3c7J4tSs"
      }
    },
    {
      "cell_type": "code",
      "source": [
        "import numpy as np\n",
        "import matplotlib.pyplot as plt"
      ],
      "metadata": {
        "id": "_6hLfDAm5J9X"
      },
      "execution_count": null,
      "outputs": []
    },
    {
      "cell_type": "code",
      "source": [
        "# Generate 1000 random numbers between 0 and 1 (default range)\n",
        "random_numbers = np.random.uniform(size=1000)\n",
        "\n",
        "# Or, specify a custom range:\n",
        "# random_numbers = np.random.uniform(low=2, high=5, size=1000)"
      ],
      "metadata": {
        "id": "gC4pLG8Q5J8F"
      },
      "execution_count": null,
      "outputs": []
    },
    {
      "cell_type": "code",
      "source": [
        "plt.hist(random_numbers, bins=30)  # Adjust 'bins' for desired granularity\n",
        "plt.title('Continuous Uniform Distribution')\n",
        "plt.xlabel('Values')\n",
        "plt.ylabel('Frequency')\n",
        "plt.show()"
      ],
      "metadata": {
        "colab": {
          "base_uri": "https://localhost:8080/",
          "height": 472
        },
        "id": "etgzb6gr5QxH",
        "outputId": "4f2322d8-56e7-4042-97b3-1070ad75d069"
      },
      "execution_count": null,
      "outputs": [
        {
          "output_type": "display_data",
          "data": {
            "text/plain": [
              "<Figure size 640x480 with 1 Axes>"
            ],
            "image/png": "[encoded data removed]"
          },
          "metadata": {}
        }
      ]
    },
    {
      "cell_type": "markdown",
      "source": [
        "#8.Simulate data from a normal distribution and plots its histogram."
      ],
      "metadata": {
        "id": "PYjq1XeI5ZIM"
      }
    },
    {
      "cell_type": "code",
      "source": [
        "import numpy as np\n",
        "import matplotlib.pyplot as plt"
      ],
      "metadata": {
        "id": "0YF6eDpI53OA"
      },
      "execution_count": null,
      "outputs": []
    },
    {
      "cell_type": "code",
      "source": [
        "# Parameters for the normal distribution\n",
        "mu = 0  # Mean\n",
        "sigma = 1  # Standard deviation\n",
        "n = 1000  # Number of data points to generate\n",
        "\n",
        "# Generate random data\n",
        "data = np.random.normal(mu, sigma, n)"
      ],
      "metadata": {
        "id": "IYcyHGbi55rH"
      },
      "execution_count": null,
      "outputs": []
    },
    {
      "cell_type": "code",
      "source": [
        "plt.hist(data, bins=30)  # 'bins' determines the number of bars in the histogram\n",
        "plt.title('Histogram of Normally Distributed Data')\n",
        "plt.xlabel('Values')\n",
        "plt.ylabel('Frequency')\n",
        "plt.show()"
      ],
      "metadata": {
        "colab": {
          "base_uri": "https://localhost:8080/",
          "height": 472
        },
        "id": "pn7yZ4DV57-K",
        "outputId": "aecc8358-81a0-4d2f-b9bd-68e303cab96d"
      },
      "execution_count": null,
      "outputs": [
        {
          "output_type": "display_data",
          "data": {
            "text/plain": [
              "<Figure size 640x480 with 1 Axes>"
            ],
            "image/png": "[encoded data removed]"
          },
          "metadata": {}
        }
      ]
    },
    {
      "cell_type": "markdown",
      "source": [
        "#9.Write a python function to calculate z-scores from a dataset and plot them."
      ],
      "metadata": {
        "id": "ZwbN6y6G6ivP"
      }
    },
    {
      "cell_type": "code",
      "source": [
        "import pandas as pd\n",
        "import numpy as np\n",
        "import matplotlib.pyplot as plt\n",
        "from scipy import stats\n",
        "\n",
        "def calculate_and_plot_zscores(data):\n",
        "  \"\"\"\n",
        "  Calculates z-scores for a dataset and creates a histogram plot.\n",
        "\n",
        "  Args:\n",
        "    data: A pandas DataFrame or a NumPy array containing the dataset.\n",
        "\n",
        "  Returns:\n",
        "    A pandas DataFrame with the original data and the calculated z-scores.\n",
        "  \"\"\"\n",
        "  # Calculate z-scores using scipy.stats.zscore\n",
        "  zscores = stats.zscore(data)\n",
        "\n",
        "  # Create a DataFrame for easier handling\n",
        "  df = pd.DataFrame(data)\n",
        "  df['zscore'] = zscores\n",
        "\n",
        "  # Create a histogram plot of the z-scores\n",
        "  plt.hist(df['zscore'], bins=20)\n",
        "  plt.title('Distribution of Z-scores')\n",
        "  plt.xlabel('Z-score')\n",
        "  plt.ylabel('Frequency')\n",
        "  plt.show()  # or plt.savefig(\"zscore_histogram.png\") to save\n",
        "\n",
        "  return df\n",
        "\n",
        "# Example usage with a pandas DataFrame:\n",
        "data = pd.DataFrame({'values': [1, 2, 3, 4, 5]})\n",
        "result_df = calculate_and_plot_zscores(data['values'])\n",
        "print(result_df) # Print the DataFrame with z-scores\n",
        "\n",
        "# Example usage with a NumPy array:\n",
        "data_array = np.array([10, 12, 15, 18, 20])\n",
        "result_df = calculate_and_plot_zscores(data_array)\n",
        "print(result_df)  # Print the DataFrame with z-scores"
      ],
      "metadata": {
        "colab": {
          "base_uri": "https://localhost:8080/",
          "height": 1000
        },
        "id": "ZPSqrxOF7N5R",
        "outputId": "a61ea895-72bc-4692-b649-f645a2b0d4a7"
      },
      "execution_count": null,
      "outputs": [
        {
          "output_type": "display_data",
          "data": {
            "text/plain": [
              "<Figure size 640x480 with 1 Axes>"
            ],
            "image/png": "[encoded data removed]"
          },
          "metadata": {}
        },
        {
          "output_type": "stream",
          "name": "stdout",
          "text": [
            "   values    zscore\n",
            "0       1 -1.414214\n",
            "1       2 -0.707107\n",
            "2       3  0.000000\n",
            "3       4  0.707107\n",
            "4       5  1.414214\n"
          ]
        },
        {
          "output_type": "display_data",
          "data": {
            "text/plain": [
              "<Figure size 640x480 with 1 Axes>"
            ],
            "image/png": "[encoded data removed]"
          },
          "metadata": {}
        },
        {
          "output_type": "stream",
          "name": "stdout",
          "text": [
            "    0    zscore\n",
            "0  10 -1.355815\n",
            "1  12 -0.813489\n",
            "2  15  0.000000\n",
            "3  18  0.813489\n",
            "4  20  1.355815\n"
          ]
        }
      ]
    },
    {
      "cell_type": "markdown",
      "source": [
        "#10.Implement the Central Limit Theorem(CLT) using Python for non-normal distribution."
      ],
      "metadata": {
        "id": "ycf45hoK_YYJ"
      }
    },
    {
      "cell_type": "code",
      "source": [
        "import numpy as np\n",
        "\n",
        "   # Parameters for the exponential distribution\n",
        "scale = 2  # You can change this to adjust the shape of the exponential distribution\n",
        "\n",
        "   # Number of samples to take for each experiment\n",
        "sample_size = 30  # Experiment with different sample sizes to see the CLT in action\n",
        "\n",
        "   # Number of experiments (how many times we'll sample and calculate the mean)\n",
        "num_experiments = 10000  # Increasing this number makes the CLT more evident\n",
        "\n",
        "   # Generate random samples from the exponential distribution\n",
        "samples = np.random.exponential(scale=scale, size=(num_experiments, sample_size))"
      ],
      "metadata": {
        "id": "5CCLCvdaBvtS"
      },
      "execution_count": null,
      "outputs": []
    },
    {
      "cell_type": "markdown",
      "source": [
        "#15.Simulate multiple samples from a normal distribution and verify the central Theorem."
      ],
      "metadata": {
        "id": "oJnBL4ELCZ-E"
      }
    },
    {
      "cell_type": "code",
      "source": [
        "import numpy as np\n",
        "import matplotlib.pyplot as plt"
      ],
      "metadata": {
        "id": "iFQpeOErDr6f"
      },
      "execution_count": null,
      "outputs": []
    },
    {
      "cell_type": "code",
      "source": [
        "population_mean = 50  # Mean of the population\n",
        "population_std = 10  # Standard deviation of the population\n",
        "sample_size = 30   # Size of each sample\n",
        "num_samples = 1000  # Number of samples to generate"
      ],
      "metadata": {
        "id": "FhCIEeSCDunR"
      },
      "execution_count": null,
      "outputs": []
    },
    {
      "cell_type": "code",
      "source": [
        "sample_means = []\n",
        "for i in range(num_samples):\n",
        "    # Generate a random sample from the normal distribution\n",
        "    sample = np.random.normal(population_mean, population_std, sample_size)\n",
        "    # Calculate the mean of the sample and append it to the list\n",
        "    sample_means.append(np.mean(sample))"
      ],
      "metadata": {
        "id": "ro8Xi9o3DyN_"
      },
      "execution_count": null,
      "outputs": []
    },
    {
      "cell_type": "code",
      "source": [
        "plt.hist(sample_means, bins=30)  # Create a histogram of sample means\n",
        "plt.title('Distribution of Sample Means')\n",
        "plt.xlabel('Sample Mean')\n",
        "plt.ylabel('Frequency')\n",
        "plt.show()  # Display the histogram"
      ],
      "metadata": {
        "colab": {
          "base_uri": "https://localhost:8080/",
          "height": 472
        },
        "id": "tPJGFs4KD1Z5",
        "outputId": "c7deb3fc-d567-4b48-98e4-fc1744defe87"
      },
      "execution_count": null,
      "outputs": [
        {
          "output_type": "display_data",
          "data": {
            "text/plain": [
              "<Figure size 640x480 with 1 Axes>"
            ],
            "image/png": "[encoded data removed]"
          },
          "metadata": {}
        }
      ]
    },
    {
      "cell_type": "markdown",
      "source": [
        "#16.Write a Python function to calculate and plot the standard normal distribution(mean=0,std=1)."
      ],
      "metadata": {
        "id": "33DKCt7ZLQl0"
      }
    },
    {
      "cell_type": "code",
      "source": [
        "import numpy as np\n",
        "import matplotlib.pyplot as plt\n",
        "import scipy.stats as stats\n",
        "\n",
        "def plot_standard_normal_distribution():\n",
        "  \"\"\"\n",
        "  Calculates and plots the standard normal distribution (mean=0, std=1).\n",
        "  \"\"\"\n",
        "  # Generate x-values for the plot\n",
        "  x = np.linspace(-3, 3, 100)  # Range from -3 to 3 standard deviations\n",
        "\n",
        "  # Calculate the probability density function (PDF) values\n",
        "  pdf_values = stats.norm.pdf(x, loc=0, scale=1)\n",
        "\n",
        "  # Create the plot\n",
        "  plt.plot(x, pdf_values)\n",
        "  plt.title('Standard Normal Distribution')\n",
        "  plt.xlabel('x')\n",
        "  plt.ylabel('Probability Density')\n",
        "  plt.show()\n",
        "\n",
        "# Call the function to generate the plot\n",
        "plot_standard_normal_distribution()"
      ],
      "metadata": {
        "colab": {
          "base_uri": "https://localhost:8080/",
          "height": 472
        },
        "id": "5nmgf646Lv8b",
        "outputId": "ee2b39d1-312d-47b6-afa4-4efa0bfdac93"
      },
      "execution_count": null,
      "outputs": [
        {
          "output_type": "display_data",
          "data": {
            "text/plain": [
              "<Figure size 640x480 with 1 Axes>"
            ],
            "image/png": "[encoded data removed]"
          },
          "metadata": {}
        }
      ]
    },
    {
      "cell_type": "markdown",
      "source": [
        "#17.Generate random variables and calculate their corresponding probabilities using the binomial distribution."
      ],
      "metadata": {
        "id": "C5uxe02eLQj7"
      }
    },
    {
      "cell_type": "code",
      "source": [
        "import numpy as np\n",
        "import scipy.stats as stats\n",
        "\n",
        "# Set parameters for the binomial distribution\n",
        "n = 10  # Number of trials\n",
        "p = 0.3  # Probability of success in a single trial\n",
        "\n",
        "# Generate 10 random variables\n",
        "random_variables = np.random.binomial(n, p, size=10)\n",
        "\n",
        "# Calculate probabilities for each random variable\n",
        "probabilities = stats.binom.pmf(random_variables, n, p)\n",
        "\n",
        "# Print results\n",
        "for rv, prob in zip(random_variables, probabilities):\n",
        "  print(f\"Random Variable: {rv}, Probability: {prob:.4f}\")"
      ],
      "metadata": {
        "colab": {
          "base_uri": "https://localhost:8080/"
        },
        "id": "9k5M_Ep7NLad",
        "outputId": "1b940489-d199-492b-a6f1-0927d4e7f507"
      },
      "execution_count": null,
      "outputs": [
        {
          "output_type": "stream",
          "name": "stdout",
          "text": [
            "Random Variable: 3, Probability: 0.2668\n",
            "Random Variable: 1, Probability: 0.1211\n",
            "Random Variable: 4, Probability: 0.2001\n",
            "Random Variable: 2, Probability: 0.2335\n",
            "Random Variable: 2, Probability: 0.2335\n",
            "Random Variable: 1, Probability: 0.1211\n",
            "Random Variable: 4, Probability: 0.2001\n",
            "Random Variable: 2, Probability: 0.2335\n",
            "Random Variable: 3, Probability: 0.2668\n",
            "Random Variable: 2, Probability: 0.2335\n"
          ]
        }
      ]
    },
    {
      "cell_type": "markdown",
      "source": [
        "#18.Write a python program to calculate the z-score for a given data point and compare it to a standard normal distribution."
      ],
      "metadata": {
        "id": "LvJNiEFLO2NQ"
      }
    },
    {
      "cell_type": "code",
      "source": [
        "import numpy as np\n",
        "import scipy.stats as stats\n",
        "\n",
        "def calculate_zscore(data_point, population_mean, population_std_dev):\n",
        "    \"\"\"\n",
        "    Calculate the z-score for a given data point.\n",
        "    Args:\n",
        "        data_point: The data point to calculate the z-score for.\n",
        "        population_mean: The mean of the population.\n",
        "        population_std_dev: The standard deviation of the population.\n",
        "    Returns:\n",
        "        The z-score for the data point.\n",
        "    \"\"\"\n",
        "\n",
        "    z_score = (data_point - population_mean) / population_std_dev\n",
        "    return z_score\n",
        "\n",
        "def compare_to_standard_normal(z_score):\n",
        "    \"\"\"\n",
        "    Compares a z-score to a standard normal distribution and prints results.\n",
        "    Args:\n",
        "        z_score: The z-score to compare.\n",
        "    \"\"\"\n",
        "    print(f\"Z-score: {z_score}\")\n",
        "    # Probability of observing a value less than or equal to the z-score:\n",
        "    p_value = stats.norm.cdf(z_score)\n",
        "    print(f\"Probability (cumulative): {p_value}\")\n",
        "\n",
        "# Example usage:\n",
        "data_point = 75\n",
        "population_mean = 70\n",
        "population_std_dev = 5\n",
        "\n",
        "z_score = calculate_zscore(data_point, population_mean, population_std_dev)\n",
        "compare_to_standard_normal(z_score)"
      ],
      "metadata": {
        "colab": {
          "base_uri": "https://localhost:8080/"
        },
        "id": "IEzp0Y47Qqok",
        "outputId": "e38aa815-a8e5-4035-c321-8e5b3becb302"
      },
      "execution_count": null,
      "outputs": [
        {
          "output_type": "stream",
          "name": "stdout",
          "text": [
            "Z-score: 1.0\n",
            "Probability (cumulative): 0.8413447460685429\n"
          ]
        }
      ]
    },
    {
      "cell_type": "markdown",
      "source": [
        "#19.Implement hypothesis testing using z- statictics for a sample dataset."
      ],
      "metadata": {
        "id": "cP6j7OiDRxHy"
      }
    },
    {
      "cell_type": "code",
      "source": [
        "import numpy as np\n",
        "import scipy.stats as stats"
      ],
      "metadata": {
        "id": "ecj5k-BQSffq"
      },
      "execution_count": null,
      "outputs": []
    },
    {
      "cell_type": "code",
      "source": [
        "sample_data = np.array([9, 11, 10, 12, 13, 8, 10, 9, 11, 12])\n",
        "\n",
        "\n",
        "sample_mean = np.mean(sample_data)\n",
        "sample_std = np.std(sample_data, ddof=1)  # ddof=1 for sample standard deviation\n",
        "\n",
        "population_mean = 10  # Hypothesized population mean\n",
        "z_statistic = (sample_mean - population_mean) / (sample_std / np.sqrt(len(sample_data)))\n",
        "\n",
        "p_value = 2 * (1 - stats.norm.cdf(abs(z_statistic))) # Two-tailed test\n",
        "\n",
        "alpha = 0.05\n",
        "if p_value < alpha:\n",
        "    print(\"Reject the null hypothesis.\")\n",
        "else:\n",
        "    print(\"Fail to reject the null hypothesis.\")\n",
        "\n"
      ],
      "metadata": {
        "colab": {
          "base_uri": "https://localhost:8080/"
        },
        "id": "lVetHxMJShk_",
        "outputId": "e25c7ab9-5820-4e58-dfa2-70479afa911f"
      },
      "execution_count": null,
      "outputs": [
        {
          "output_type": "stream",
          "name": "stdout",
          "text": [
            "Fail to reject the null hypothesis.\n"
          ]
        }
      ]
    },
    {
      "cell_type": "markdown",
      "source": [
        "#20.Create a confidence interval for a dataset using python and interpret the result.  "
      ],
      "metadata": {
        "id": "87JgTTLxYhkj"
      }
    },
    {
      "cell_type": "code",
      "source": [
        "import numpy as np\n",
        "import scipy.stats as stats"
      ],
      "metadata": {
        "id": "aJ6kZZau7Tts"
      },
      "execution_count": null,
      "outputs": []
    },
    {
      "cell_type": "code",
      "source": [
        "data = np.array([23, 25, 20, 21, 24, 22, 26, 27, 19, 28])\n",
        "\n",
        "mean = np.mean(data)\n",
        "std = np.std(data, ddof=1)  # ddof=1 for sample standard deviation\n",
        "\n",
        "confidence_level = 0.95\n",
        "\n",
        "margin_of_error = stats.t.ppf((1 + confidence_level) / 2, df=len(data) - 1) * std / np.sqrt(len(data))\n",
        "confidence_interval = (mean - margin_of_error, mean + margin_of_error)\n",
        "\n",
        "print(\"Confidence Interval:\", confidence_interval)\n"
      ],
      "metadata": {
        "colab": {
          "base_uri": "https://localhost:8080/"
        },
        "id": "Li_0E9Lo7VjG",
        "outputId": "d0261aa2-a8b7-4122-e667-ef643f16b6dd"
      },
      "execution_count": null,
      "outputs": [
        {
          "output_type": "stream",
          "name": "stdout",
          "text": [
            "Confidence Interval: (21.334149410278314, 25.665850589721686)\n"
          ]
        }
      ]
    },
    {
      "cell_type": "markdown",
      "source": [
        "#21.Genarete data from a normal distribution,thencalculate and interpret the confidence interval for its mean."
      ],
      "metadata": {
        "id": "EkzckoqxYhi6"
      }
    },
    {
      "cell_type": "code",
      "source": [
        "import numpy as np\n",
        "\n",
        "# Set the parameters of the normal distribution\n",
        "mu = 50  # Mean\n",
        "sigma = 10  # Standard deviation\n",
        "sample_size = 100\n",
        "\n",
        "# Generate random data\n",
        "data = np.random.normal(mu, sigma, sample_size)\n",
        "\n",
        "print(data)"
      ],
      "metadata": {
        "colab": {
          "base_uri": "https://localhost:8080/"
        },
        "id": "3AJdvE0O-MxW",
        "outputId": "e49195fb-4f2d-4d9d-8fb5-bf523ebcf405"
      },
      "execution_count": null,
      "outputs": [
        {
          "output_type": "stream",
          "name": "stdout",
          "text": [
            "[67.89755491 64.04570647 45.14620594 53.99190027 42.52239289 72.00380034\n",
            " 65.34593668 47.88552993 33.91724427 60.56181938 43.07624734 43.88785069\n",
            " 40.94835587 70.76104919 49.1754253  58.6222802  47.87052256 38.25768735\n",
            " 68.21113569 45.31606705 47.48103489 45.83702363 41.57603051 27.07171227\n",
            " 60.30341948 52.42647583 41.28024563 43.8764034  52.57312464 55.51359177\n",
            " 53.48432209 43.04263899 65.79315052 54.07614867 70.34106282 48.1067239\n",
            " 47.25853179 68.76791793 40.89655947 72.8997919  50.18101095 38.73809731\n",
            " 47.74588575 43.89111736 50.61367238 55.90522675 52.66596597 39.45916948\n",
            " 53.27647112 60.11083078 34.34777211 54.8901028  66.70513402 41.78545953\n",
            " 57.39860553 44.88093977 61.53195585 44.6303062  38.0630305  42.85817154\n",
            " 47.2267194  37.61760746 49.19961723 39.6379509  43.86784776 45.41811286\n",
            " 45.0971732  57.50319779 58.60686878 54.17557915 40.60575016 55.05948473\n",
            " 47.24558558 39.90335923 63.06583797 45.95273902 40.17467524 48.94778049\n",
            " 68.81696932 68.98049945 63.29401478 59.51587586 51.75610441 69.19771708\n",
            " 62.12796706 27.10890401 39.81303088 24.90538308 59.30419363 57.52527248\n",
            " 51.91300737 42.9868229  54.90374481 47.86898058 46.29419508 30.83967734\n",
            " 69.19278422 57.3858059  35.43488715 48.86188463]\n"
          ]
        }
      ]
    },
    {
      "cell_type": "code",
      "source": [
        "import scipy.stats as stats\n",
        "\n",
        "# Calculate the sample mean and standard error\n",
        "sample_mean = np.mean(data)\n",
        "standard_error = stats.sem(data)  # sem calculates the standard error of the mean\n",
        "\n",
        "# Set the confidence level (e.g., 95%)\n",
        "confidence_level = 0.95\n",
        "\n",
        "# Calculate the margin of error\n",
        "margin_of_error = standard_error * stats.t.ppf((1 + confidence_level) / 2, sample_size - 1)\n",
        "# ppf is the percent point function (inverse of the CDF) of the t-distribution\n",
        "\n",
        "# Calculate the confidence interval\n",
        "confidence_interval = (sample_mean - margin_of_error, sample_mean + margin_of_error)\n",
        "\n",
        "print(confidence_interval)"
      ],
      "metadata": {
        "colab": {
          "base_uri": "https://localhost:8080/"
        },
        "id": "DJ_G0Sz8-Ou9",
        "outputId": "51239e1e-da15-4e14-c7be-b2dc01076766"
      },
      "execution_count": null,
      "outputs": [
        {
          "output_type": "stream",
          "name": "stdout",
          "text": [
            "(48.513601504235986, 52.86766163804803)\n"
          ]
        }
      ]
    },
    {
      "cell_type": "markdown",
      "source": [
        "#22.Write a python script to calculate and visualize the probability density function (PDF) of a normal distribution."
      ],
      "metadata": {
        "id": "4640KP3K-jzH"
      }
    },
    {
      "cell_type": "code",
      "source": [
        "import numpy as np\n",
        "import matplotlib.pyplot as plt\n",
        "from scipy.stats import norm\n",
        "\n",
        "# Define the parameters of the normal distribution\n",
        "mu = 0  # Mean\n",
        "sigma = 1  # Standard deviation\n",
        "\n",
        "# Generate x-values for the plot\n",
        "x = np.linspace(mu - 3*sigma, mu + 3*sigma, 100)\n",
        "\n",
        "# Calculate the PDF values using the norm.pdf() function\n",
        "pdf = norm.pdf(x, loc=mu, scale=sigma)\n",
        "\n",
        "# Plot the PDF\n",
        "plt.plot(x, pdf, label='Normal Distribution')\n",
        "plt.title('Probability Density Function (PDF)')\n",
        "plt.xlabel('x')\n",
        "plt.ylabel('PDF(x)')\n",
        "plt.legend()\n",
        "plt.grid(True)\n",
        "\n",
        "# Display the plot\n",
        "plt.show()"
      ],
      "metadata": {
        "colab": {
          "base_uri": "https://localhost:8080/",
          "height": 472
        },
        "id": "sBbmdcS4_zdv",
        "outputId": "311b0ae2-ca21-4c44-fdd7-17ababf2c87a"
      },
      "execution_count": null,
      "outputs": [
        {
          "output_type": "display_data",
          "data": {
            "text/plain": [
              "<Figure size 640x480 with 1 Axes>"
            ],
            "image/png": "[encoded data removed]"
          },
          "metadata": {}
        }
      ]
    },
    {
      "cell_type": "markdown",
      "source": [
        "#23.Use python to calculate and interpret the cumulative distribution function (CDF) of a poisson distribution."
      ],
      "metadata": {
        "id": "6LWQWdvnAF3j"
      }
    },
    {
      "cell_type": "code",
      "source": [
        "from scipy.stats import poisson"
      ],
      "metadata": {
        "id": "TFQJNXWFB0pN"
      },
      "execution_count": null,
      "outputs": []
    },
    {
      "cell_type": "code",
      "source": [
        "mu = 5  # Example: Average rate of 5 events\n",
        "k = 3   # Example: Want to find P(X <= 3)\n",
        "\n",
        "cdf_value = poisson.cdf(k, mu)\n",
        "print(cdf_value)"
      ],
      "metadata": {
        "colab": {
          "base_uri": "https://localhost:8080/"
        },
        "id": "JZ6Wc-ChF1Qq",
        "outputId": "f531f994-a286-479c-93c1-d9f7f5a861be"
      },
      "execution_count": null,
      "outputs": [
        {
          "output_type": "stream",
          "name": "stdout",
          "text": [
            "0.2650259152973616\n"
          ]
        }
      ]
    },
    {
      "cell_type": "markdown",
      "source": [
        "#24.Simulate a random variable using a continious uniform distribution and calculate its expected value."
      ],
      "metadata": {
        "id": "ciBU_monGCil"
      }
    },
    {
      "cell_type": "code",
      "source": [
        "import numpy as np"
      ],
      "metadata": {
        "id": "N7eQfv7PHBDy"
      },
      "execution_count": null,
      "outputs": []
    },
    {
      "cell_type": "code",
      "source": [
        "a = 0  # Minimum value\n",
        "b = 10 # Maximum value\n",
        "\n",
        "num_samples = 10000  # Number of random samples\n",
        "random_samples = np.random.uniform(a, b, num_samples)\n",
        "\n",
        "expected_value = (a + b) / 2\n",
        "print(\"Expected Value (Theoretical):\", expected_value)\n",
        "\n",
        "estimated_expected_value = np.mean(random_samples)\n",
        "print(\"Estimated Expected Value (Simulation):\", estimated_expected_value)"
      ],
      "metadata": {
        "colab": {
          "base_uri": "https://localhost:8080/"
        },
        "id": "P7OPlJm7HCyY",
        "outputId": "4749a247-d3b0-4dfa-d31f-247c28497705"
      },
      "execution_count": null,
      "outputs": [
        {
          "output_type": "stream",
          "name": "stdout",
          "text": [
            "Expected Value (Theoretical): 5.0\n",
            "Estimated Expected Value (Simulation): 5.037381023572688\n"
          ]
        }
      ]
    },
    {
      "cell_type": "markdown",
      "source": [
        "#25.Write a python program to compare the standard deviations of two datasets and visualize the difference."
      ],
      "metadata": {
        "id": "5VNpRM04HW4E"
      }
    },
    {
      "cell_type": "code",
      "source": [
        "import numpy as np\n",
        "import matplotlib.pyplot as plt\n",
        "\n",
        "# Generate two datasets\n",
        "data1 = np.random.normal(loc=5, scale=2, size=100)  # Mean=5, SD=2\n",
        "data2 = np.random.normal(loc=8, scale=3, size=100)  # Mean=8, SD=3\n",
        "\n",
        "# Calculate standard deviations\n",
        "std1 = np.std(data1)\n",
        "std2 = np.std(data2)\n",
        "\n",
        "# Create a bar chart\n",
        "labels = ['Dataset 1', 'Dataset 2']\n",
        "stds = [std1, std2]\n",
        "\n",
        "plt.bar(labels, stds, color=['blue', 'orange'])\n",
        "plt.title('Comparison of Standard Deviations')\n",
        "plt.ylabel('Standard Deviation')\n",
        "plt.show()\n",
        "\n",
        "# Print standard deviations\n",
        "print(\"Standard Deviation of Dataset 1:\", std1)\n",
        "print(\"Standard Deviation of Dataset 2:\", std2)"
      ],
      "metadata": {
        "colab": {
          "base_uri": "https://localhost:8080/",
          "height": 487
        },
        "id": "VCdyE2NIJbKS",
        "outputId": "d23cdd6f-15c1-4920-bb55-69e8f0630cf4"
      },
      "execution_count": null,
      "outputs": [
        {
          "output_type": "display_data",
          "data": {
            "text/plain": [
              "<Figure size 640x480 with 1 Axes>"
            ],
            "image/png": "[encoded data removed]"
          },
          "metadata": {}
        },
        {
          "output_type": "stream",
          "name": "stdout",
          "text": [
            "Standard Deviation of Dataset 1: 2.286225477075293\n",
            "Standard Deviation of Dataset 2: 2.877873173215574\n"
          ]
        }
      ]
    },
    {
      "cell_type": "markdown",
      "source": [
        "#27.Implement z-score normalization on a dataset and visualize its transformation."
      ],
      "metadata": {
        "id": "AC2JQZqqKcjl"
      }
    },
    {
      "cell_type": "code",
      "source": [
        "import pandas as pd\n",
        "import numpy as np\n",
        "import matplotlib.pyplot as plt\n",
        "import seaborn as sns"
      ],
      "metadata": {
        "id": "e2nri5LSLMaC"
      },
      "execution_count": null,
      "outputs": []
    },
    {
      "cell_type": "code",
      "source": [
        "df=sns.load_dataset('tips')"
      ],
      "metadata": {
        "id": "VnMVjaopLPDo"
      },
      "execution_count": null,
      "outputs": []
    },
    {
      "cell_type": "code",
      "source": [
        "df.head(2)"
      ],
      "metadata": {
        "colab": {
          "base_uri": "https://localhost:8080/",
          "height": 112
        },
        "id": "sCa-3hpeZNaG",
        "outputId": "119a54be-3675-4b41-dd71-8ad798f1ebe0"
      },
      "execution_count": null,
      "outputs": [
        {
          "output_type": "execute_result",
          "data": {
            "text/plain": [
              "   total_bill   tip     sex smoker  day    time  size\n",
              "0       16.99  1.01  Female     No  Sun  Dinner     2\n",
              "1       10.34  1.66    Male     No  Sun  Dinner     3"
            ],
            "text/html": [
              "\n",
              "  <div id=\"df-54b74e31-d6c2-45fd-bccf-ebc2d0fdaadc\" class=\"colab-df-container\">\n",
              "    <div>\n",
              "<style scoped>\n",
              "    .dataframe tbody tr th:only-of-type {\n",
              "        vertical-align: middle;\n",
              "    }\n",
              "\n",
              "    .dataframe tbody tr th {\n",
              "        vertical-align: top;\n",
              "    }\n",
              "\n",
              "    .dataframe thead th {\n",
              "        text-align: right;\n",
              "    }\n",
              "</style>\n",
              "<table border=\"1\" class=\"dataframe\">\n",
              "  <thead>\n",
              "    <tr style=\"text-align: right;\">\n",
              "      <th></th>\n",
              "      <th>total_bill</th>\n",
              "      <th>tip</th>\n",
              "      <th>sex</th>\n",
              "      <th>smoker</th>\n",
              "      <th>day</th>\n",
              "      <th>time</th>\n",
              "      <th>size</th>\n",
              "    </tr>\n",
              "  </thead>\n",
              "  <tbody>\n",
              "    <tr>\n",
              "      <th>0</th>\n",
              "      <td>16.99</td>\n",
              "      <td>1.01</td>\n",
              "      <td>Female</td>\n",
              "      <td>No</td>\n",
              "      <td>Sun</td>\n",
              "      <td>Dinner</td>\n",
              "      <td>2</td>\n",
              "    </tr>\n",
              "    <tr>\n",
              "      <th>1</th>\n",
              "      <td>10.34</td>\n",
              "      <td>1.66</td>\n",
              "      <td>Male</td>\n",
              "      <td>No</td>\n",
              "      <td>Sun</td>\n",
              "      <td>Dinner</td>\n",
              "      <td>3</td>\n",
              "    </tr>\n",
              "  </tbody>\n",
              "</table>\n",
              "</div>\n",
              "    <div class=\"colab-df-buttons\">\n",
              "\n",
              "  <div class=\"colab-df-container\">\n",
              "    <button class=\"colab-df-convert\" onclick=\"convertToInteractive('df-54b74e31-d6c2-45fd-bccf-ebc2d0fdaadc')\"\n",
              "            title=\"Convert this dataframe to an interactive table.\"\n",
              "            style=\"display:none;\">\n",
              "\n",
              "  <svg xmlns=\"http://www.w3.org/2000/svg\" height=\"24px\" viewBox=\"0 -960 960 960\">\n",
              "    <path d=\"M120-120v-720h720v720H120Zm60-500h600v-160H180v160Zm220 220h160v-160H400v160Zm0 220h160v-160H400v160ZM180-400h160v-160H180v160Zm440 0h160v-160H620v160ZM180-180h160v-160H180v160Zm440 0h160v-160H620v160Z\"/>\n",
              "  </svg>\n",
              "    </button>\n",
              "\n",
              "  <style>\n",
              "    .colab-df-container {\n",
              "      display:flex;\n",
              "      gap: 12px;\n",
              "    }\n",
              "\n",
              "    .colab-df-convert {\n",
              "      background-color: #E8F0FE;\n",
              "      border: none;\n",
              "      border-radius: 50%;\n",
              "      cursor: pointer;\n",
              "      display: none;\n",
              "      fill: #1967D2;\n",
              "      height: 32px;\n",
              "      padding: 0 0 0 0;\n",
              "      width: 32px;\n",
              "    }\n",
              "\n",
              "    .colab-df-convert:hover {\n",
              "      background-color: #E2EBFA;\n",
              "      box-shadow: 0px 1px 2px rgba(60, 64, 67, 0.3), 0px 1px 3px 1px rgba(60, 64, 67, 0.15);\n",
              "      fill: #174EA6;\n",
              "    }\n",
              "\n",
              "    .colab-df-buttons div {\n",
              "      margin-bottom: 4px;\n",
              "    }\n",
              "\n",
              "    [theme=dark] .colab-df-convert {\n",
              "      background-color: #3B4455;\n",
              "      fill: #D2E3FC;\n",
              "    }\n",
              "\n",
              "    [theme=dark] .colab-df-convert:hover {\n",
              "      background-color: #434B5C;\n",
              "      box-shadow: 0px 1px 3px 1px rgba(0, 0, 0, 0.15);\n",
              "      filter: drop-shadow(0px 1px 2px rgba(0, 0, 0, 0.3));\n",
              "      fill: #FFFFFF;\n",
              "    }\n",
              "  </style>\n",
              "\n",
              "    <script>\n",
              "      const buttonEl =\n",
              "        document.querySelector('#df-54b74e31-d6c2-45fd-bccf-ebc2d0fdaadc button.colab-df-convert');\n",
              "      buttonEl.style.display =\n",
              "        google.colab.kernel.accessAllowed ? 'block' : 'none';\n",
              "\n",
              "      async function convertToInteractive(key) {\n",
              "        const element = document.querySelector('#df-54b74e31-d6c2-45fd-bccf-ebc2d0fdaadc');\n",
              "        const dataTable =\n",
              "          await google.colab.kernel.invokeFunction('convertToInteractive',\n",
              "                                                    [key], {});\n",
              "        if (!dataTable) return;\n",
              "\n",
              "        const docLinkHtml = 'Like what you see? Visit the ' +\n",
              "          '<a target=\"_blank\" href=https://colab.research.google.com/notebooks/data_table.ipynb>data table notebook</a>'\n",
              "          + ' to learn more about interactive tables.';\n",
              "        element.innerHTML = '';\n",
              "        dataTable['output_type'] = 'display_data';\n",
              "        await google.colab.output.renderOutput(dataTable, element);\n",
              "        const docLink = document.createElement('div');\n",
              "        docLink.innerHTML = docLinkHtml;\n",
              "        element.appendChild(docLink);\n",
              "      }\n",
              "    </script>\n",
              "  </div>\n",
              "\n",
              "\n",
              "<div id=\"df-243c2edf-b4ec-48c4-a8dd-172f0c27fc5e\">\n",
              "  <button class=\"colab-df-quickchart\" onclick=\"quickchart('df-243c2edf-b4ec-48c4-a8dd-172f0c27fc5e')\"\n",
              "            title=\"Suggest charts\"\n",
              "            style=\"display:none;\">\n",
              "\n",
              "<svg xmlns=\"http://www.w3.org/2000/svg\" height=\"24px\"viewBox=\"0 0 24 24\"\n",
              "     width=\"24px\">\n",
              "    <g>\n",
              "        <path d=\"M19 3H5c-1.1 0-2 .9-2 2v14c0 1.1.9 2 2 2h14c1.1 0 2-.9 2-2V5c0-1.1-.9-2-2-2zM9 17H7v-7h2v7zm4 0h-2V7h2v10zm4 0h-2v-4h2v4z\"/>\n",
              "    </g>\n",
              "</svg>\n",
              "  </button>\n",
              "\n",
              "<style>\n",
              "  .colab-df-quickchart {\n",
              "      --bg-color: #E8F0FE;\n",
              "      --fill-color: #1967D2;\n",
              "      --hover-bg-color: #E2EBFA;\n",
              "      --hover-fill-color: #174EA6;\n",
              "      --disabled-fill-color: #AAA;\n",
              "      --disabled-bg-color: #DDD;\n",
              "  }\n",
              "\n",
              "  [theme=dark] .colab-df-quickchart {\n",
              "      --bg-color: #3B4455;\n",
              "      --fill-color: #D2E3FC;\n",
              "      --hover-bg-color: #434B5C;\n",
              "      --hover-fill-color: #FFFFFF;\n",
              "      --disabled-bg-color: #3B4455;\n",
              "      --disabled-fill-color: #666;\n",
              "  }\n",
              "\n",
              "  .colab-df-quickchart {\n",
              "    background-color: var(--bg-color);\n",
              "    border: none;\n",
              "    border-radius: 50%;\n",
              "    cursor: pointer;\n",
              "    display: none;\n",
              "    fill: var(--fill-color);\n",
              "    height: 32px;\n",
              "    padding: 0;\n",
              "    width: 32px;\n",
              "  }\n",
              "\n",
              "  .colab-df-quickchart:hover {\n",
              "    background-color: var(--hover-bg-color);\n",
              "    box-shadow: 0 1px 2px rgba(60, 64, 67, 0.3), 0 1px 3px 1px rgba(60, 64, 67, 0.15);\n",
              "    fill: var(--button-hover-fill-color);\n",
              "  }\n",
              "\n",
              "  .colab-df-quickchart-complete:disabled,\n",
              "  .colab-df-quickchart-complete:disabled:hover {\n",
              "    background-color: var(--disabled-bg-color);\n",
              "    fill: var(--disabled-fill-color);\n",
              "    box-shadow: none;\n",
              "  }\n",
              "\n",
              "  .colab-df-spinner {\n",
              "    border: 2px solid var(--fill-color);\n",
              "    border-color: transparent;\n",
              "    border-bottom-color: var(--fill-color);\n",
              "    animation:\n",
              "      spin 1s steps(1) infinite;\n",
              "  }\n",
              "\n",
              "  @keyframes spin {\n",
              "    0% {\n",
              "      border-color: transparent;\n",
              "      border-bottom-color: var(--fill-color);\n",
              "      border-left-color: var(--fill-color);\n",
              "    }\n",
              "    20% {\n",
              "      border-color: transparent;\n",
              "      border-left-color: var(--fill-color);\n",
              "      border-top-color: var(--fill-color);\n",
              "    }\n",
              "    30% {\n",
              "      border-color: transparent;\n",
              "      border-left-color: var(--fill-color);\n",
              "      border-top-color: var(--fill-color);\n",
              "      border-right-color: var(--fill-color);\n",
              "    }\n",
              "    40% {\n",
              "      border-color: transparent;\n",
              "      border-right-color: var(--fill-color);\n",
              "      border-top-color: var(--fill-color);\n",
              "    }\n",
              "    60% {\n",
              "      border-color: transparent;\n",
              "      border-right-color: var(--fill-color);\n",
              "    }\n",
              "    80% {\n",
              "      border-color: transparent;\n",
              "      border-right-color: var(--fill-color);\n",
              "      border-bottom-color: var(--fill-color);\n",
              "    }\n",
              "    90% {\n",
              "      border-color: transparent;\n",
              "      border-bottom-color: var(--fill-color);\n",
              "    }\n",
              "  }\n",
              "</style>\n",
              "\n",
              "  <script>\n",
              "    async function quickchart(key) {\n",
              "      const quickchartButtonEl =\n",
              "        document.querySelector('#' + key + ' button');\n",
              "      quickchartButtonEl.disabled = true;  // To prevent multiple clicks.\n",
              "      quickchartButtonEl.classList.add('colab-df-spinner');\n",
              "      try {\n",
              "        const charts = await google.colab.kernel.invokeFunction(\n",
              "            'suggestCharts', [key], {});\n",
              "      } catch (error) {\n",
              "        console.error('Error during call to suggestCharts:', error);\n",
              "      }\n",
              "      quickchartButtonEl.classList.remove('colab-df-spinner');\n",
              "      quickchartButtonEl.classList.add('colab-df-quickchart-complete');\n",
              "    }\n",
              "    (() => {\n",
              "      let quickchartButtonEl =\n",
              "        document.querySelector('#df-243c2edf-b4ec-48c4-a8dd-172f0c27fc5e button');\n",
              "      quickchartButtonEl.style.display =\n",
              "        google.colab.kernel.accessAllowed ? 'block' : 'none';\n",
              "    })();\n",
              "  </script>\n",
              "</div>\n",
              "\n",
              "    </div>\n",
              "  </div>\n"
            ],
            "application/vnd.google.colaboratory.intrinsic+json": {
              "type": "dataframe",
              "variable_name": "df",
              "summary": "{\n  \"name\": \"df\",\n  \"rows\": 244,\n  \"fields\": [\n    {\n      \"column\": \"total_bill\",\n      \"properties\": {\n        \"dtype\": \"number\",\n        \"std\": 8.902411954856856,\n        \"min\": 3.07,\n        \"max\": 50.81,\n        \"num_unique_values\": 229,\n        \"samples\": [\n          22.12,\n          20.23,\n          14.78\n        ],\n        \"semantic_type\": \"\",\n        \"description\": \"\"\n      }\n    },\n    {\n      \"column\": \"tip\",\n      \"properties\": {\n        \"dtype\": \"number\",\n        \"std\": 1.3836381890011826,\n        \"min\": 1.0,\n        \"max\": 10.0,\n        \"num_unique_values\": 123,\n        \"samples\": [\n          3.35,\n          1.5,\n          6.73\n        ],\n        \"semantic_type\": \"\",\n        \"description\": \"\"\n      }\n    },\n    {\n      \"column\": \"sex\",\n      \"properties\": {\n        \"dtype\": \"category\",\n        \"num_unique_values\": 2,\n        \"samples\": [\n          \"Male\",\n          \"Female\"\n        ],\n        \"semantic_type\": \"\",\n        \"description\": \"\"\n      }\n    },\n    {\n      \"column\": \"smoker\",\n      \"properties\": {\n        \"dtype\": \"category\",\n        \"num_unique_values\": 2,\n        \"samples\": [\n          \"Yes\",\n          \"No\"\n        ],\n        \"semantic_type\": \"\",\n        \"description\": \"\"\n      }\n    },\n    {\n      \"column\": \"day\",\n      \"properties\": {\n        \"dtype\": \"category\",\n        \"num_unique_values\": 4,\n        \"samples\": [\n          \"Sat\",\n          \"Fri\"\n        ],\n        \"semantic_type\": \"\",\n        \"description\": \"\"\n      }\n    },\n    {\n      \"column\": \"time\",\n      \"properties\": {\n        \"dtype\": \"category\",\n        \"num_unique_values\": 2,\n        \"samples\": [\n          \"Lunch\",\n          \"Dinner\"\n        ],\n        \"semantic_type\": \"\",\n        \"description\": \"\"\n      }\n    },\n    {\n      \"column\": \"size\",\n      \"properties\": {\n        \"dtype\": \"number\",\n        \"std\": 0,\n        \"min\": 1,\n        \"max\": 6,\n        \"num_unique_values\": 6,\n        \"samples\": [\n          2,\n          3\n        ],\n        \"semantic_type\": \"\",\n        \"description\": \"\"\n      }\n    }\n  ]\n}"
            }
          },
          "metadata": {},
          "execution_count": 3
        }
      ]
    },
    {
      "cell_type": "code",
      "source": [
        "df.info()"
      ],
      "metadata": {
        "colab": {
          "base_uri": "https://localhost:8080/"
        },
        "id": "KPqJ1dhvXaya",
        "outputId": "74bdad7f-6f9f-4e66-b1ba-26a5d8dee923"
      },
      "execution_count": null,
      "outputs": [
        {
          "output_type": "stream",
          "name": "stdout",
          "text": [
            "<class 'pandas.core.frame.DataFrame'>\n",
            "RangeIndex: 244 entries, 0 to 243\n",
            "Data columns (total 7 columns):\n",
            " #   Column      Non-Null Count  Dtype   \n",
            "---  ------      --------------  -----   \n",
            " 0   total_bill  244 non-null    float64 \n",
            " 1   tip         244 non-null    float64 \n",
            " 2   sex         244 non-null    category\n",
            " 3   smoker      244 non-null    category\n",
            " 4   day         244 non-null    category\n",
            " 5   time        244 non-null    category\n",
            " 6   size        244 non-null    int64   \n",
            "dtypes: category(4), float64(2), int64(1)\n",
            "memory usage: 7.4 KB\n"
          ]
        }
      ]
    },
    {
      "cell_type": "code",
      "source": [
        "# Calculate the mean and standard deviation of the 'total_bill' column\n",
        "mean = df['total_bill'].mean()\n",
        "std = df['total_bill'].std()\n",
        "\n",
        "# Apply the Z-score normalization formula to the 'total_bill' column\n",
        "df['total_bill_zscore'] = (df['total_bill'] - mean) / std"
      ],
      "metadata": {
        "id": "A16Xsq-jQCfc"
      },
      "execution_count": null,
      "outputs": []
    },
    {
      "cell_type": "code",
      "source": [
        "# Create a figure and axes\n",
        "fig, axs = plt.subplots(1, 2, figsize=(10, 5))\n",
        "\n",
        "# Plot the original distribution of 'total_bill'\n",
        "sns.histplot(df['total_bill'], ax=axs[0], kde=True)\n",
        "axs[0].set_title('Original Distribution of Total Bill')\n",
        "\n",
        "# Plot the normalized distribution of 'total_bill_zscore'\n",
        "sns.histplot(df['total_bill_zscore'], ax=axs[1], kde=True)\n",
        "axs[1].set_title('Normalized Distribution of Total Bill (Z-score)')\n",
        "\n",
        "# Display the plot\n",
        "plt.show()"
      ],
      "metadata": {
        "colab": {
          "base_uri": "https://localhost:8080/",
          "height": 402
        },
        "id": "8A3CMFl6Q8w5",
        "outputId": "a17002e9-a83c-49df-8580-8aad447ebb52"
      },
      "execution_count": null,
      "outputs": [
        {
          "output_type": "display_data",
          "data": {
            "text/plain": [
              "<Figure size 1000x500 with 2 Axes>"
            ],
            "image/png": "[encoded data removed]"
          },
          "metadata": {}
        }
      ]
    },
    {
      "cell_type": "markdown",
      "source": [
        "#28.Write a python function to caculate the skewness and Kurtosis of a dataset generated from a normal distribution."
      ],
      "metadata": {
        "id": "sbepqO3-MR6f"
      }
    },
    {
      "cell_type": "code",
      "source": [
        "import numpy as np\n",
        "from scipy.stats import skew, kurtosis\n",
        "\n",
        "def calculate_skewness_kurtosis(data):\n",
        "    \"\"\"\n",
        "    Calculates the skewness and kurtosis of a dataset.\n",
        "\n",
        "    Args:\n",
        "    data (array-like): The input dataset.\n",
        "\n",
        "    Returns:\n",
        "    tuple: A tuple containing the skewness and kurtosis.\n",
        "    \"\"\"\n",
        "\n",
        "    # Calculate skewness\n",
        "    skewness = skew(data)\n",
        "\n",
        "    # Calculate kurtosis\n",
        "    kurt = kurtosis(data)\n",
        "\n",
        "    return skewness, kurt  # Return skewness and kurtosis as a tuple\n",
        "\n",
        "# Example usage:\n",
        "\n",
        "# Generate random data from a normal distribution\n",
        "data = np.random.normal(loc=0, scale=1, size=1000)\n",
        "\n",
        "# Calculate and print skewness and kurtosis\n",
        "skewness, kurt = calculate_skewness_kurtosis(data)\n",
        "print(\"Skewness:\", skewness)\n",
        "print(\"Kurtosis:\", kurt)"
      ],
      "metadata": {
        "colab": {
          "base_uri": "https://localhost:8080/"
        },
        "id": "OYXuoiOEM2d-",
        "outputId": "b288d0a7-e770-4616-dd49-6117aa7d0935"
      },
      "execution_count": null,
      "outputs": [
        {
          "output_type": "stream",
          "name": "stdout",
          "text": [
            "Skewness: 0.015622189934053479\n",
            "Kurtosis: -0.15065600946526247\n"
          ]
        }
      ]
    }
  ]
}